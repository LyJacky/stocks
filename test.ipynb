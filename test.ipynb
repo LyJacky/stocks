{
 "cells": [
  {
   "cell_type": "code",
   "execution_count": 2,
   "metadata": {},
   "outputs": [
    {
     "name": "stderr",
     "output_type": "stream",
     "text": [
      "2022-11-20 20:44:20.716761: I tensorflow/core/platform/cpu_feature_guard.cc:193] This TensorFlow binary is optimized with oneAPI Deep Neural Network Library (oneDNN) to use the following CPU instructions in performance-critical operations:  AVX2 FMA\n",
      "To enable them in other operations, rebuild TensorFlow with the appropriate compiler flags.\n"
     ]
    }
   ],
   "source": [
    "import pandas as pd\n",
    "import numpy as np\n",
    "import pandas as pd\n",
    "import tensorflow as tf\n",
    "import ssl\n",
    "from sklearn.preprocessing import MinMaxScaler\n",
    "import matplotlib.pyplot as plt\n",
    "\n",
    "\n",
    "ssl._create_default_https_context = ssl._create_unverified_context\n",
    "df = pd.read_csv(\"https://raw.githubusercontent.com/LyJacky/stocks/4802f4e0f139ee0568afbad309086d90c78a53b7/all_stocks_5yr.csv\")\n"
   ]
  },
  {
   "cell_type": "code",
   "execution_count": 4,
   "metadata": {},
   "outputs": [
    {
     "data": {
      "text/plain": [
       "0       14.75\n",
       "1       14.46\n",
       "2       14.27\n",
       "3       14.66\n",
       "4       13.99\n",
       "        ...  \n",
       "1254    53.88\n",
       "1255    52.10\n",
       "1256    49.76\n",
       "1257    51.18\n",
       "1258    51.40\n",
       "Name: close, Length: 1259, dtype: float64"
      ]
     },
     "execution_count": 4,
     "metadata": {},
     "output_type": "execute_result"
    }
   ],
   "source": [
    "df1 = df.reset_index()['close']\n",
    "df1 = df1[0:1259]\n",
    "df1"
   ]
  },
  {
   "cell_type": "code",
   "execution_count": 75,
   "metadata": {},
   "outputs": [
    {
     "data": {
      "text/plain": [
       "[<matplotlib.lines.Line2D at 0x1755bd480>]"
      ]
     },
     "execution_count": 75,
     "metadata": {},
     "output_type": "execute_result"
    },
    {
     "data": {
      "image/png": "[encoded data removed]",
      "text/plain": [
       "<Figure size 432x288 with 1 Axes>"
      ]
     },
     "metadata": {
      "needs_background": "light"
     },
     "output_type": "display_data"
    }
   ],
   "source": [
    "plt.plot(df1)"
   ]
  },
  {
   "cell_type": "code",
   "execution_count": 5,
   "metadata": {},
   "outputs": [
    {
     "data": {
      "text/plain": [
       "array([[0.03806381],\n",
       "       [0.03168317],\n",
       "       [0.02750275],\n",
       "       ...,\n",
       "       [0.80836084],\n",
       "       [0.83960396],\n",
       "       [0.84444444]])"
      ]
     },
     "execution_count": 5,
     "metadata": {},
     "output_type": "execute_result"
    }
   ],
   "source": [
    "# scales the close values between the values 0 and 1\n",
    "scaler=MinMaxScaler(feature_range=(0,1))\n",
    "df1=scaler.fit_transform(np.array(df1).reshape(-1,1))\n",
    "df1"
   ]
  },
  {
   "cell_type": "code",
   "execution_count": 77,
   "metadata": {},
   "outputs": [],
   "source": [
    "training_size=int(len(df1)*0.65)\n",
    "test_size=len(df1)-training_size\n",
    "train_data,test_data=df1[0:training_size,:],df1[training_size:len(df1),:1]"
   ]
  },
  {
   "cell_type": "code",
   "execution_count": 78,
   "metadata": {},
   "outputs": [],
   "source": [
    "import numpy\n",
    "# convert an array of values into a dataset matrix\n",
    "# 100 tie step means that the number of day entries\n",
    "def create_dataset(dataset, time_step=1):\n",
    "\tdataX, dataY = [], []\n",
    "\tfor i in range(len(dataset)-time_step-1):\n",
    "\t\ta = dataset[i:(i+time_step), 0]   ###i=0, X=0,1,2,3-----99   Y=100 \n",
    "\t\tdataX.append(a)\n",
    "\t\tdataY.append(dataset[i + time_step, 0])\n",
    "\treturn numpy.array(dataX), numpy.array(dataY)"
   ]
  },
  {
   "cell_type": "code",
   "execution_count": 79,
   "metadata": {},
   "outputs": [],
   "source": [
    "# reshape into X=t,t+1,t+2..t+99 and Y=t+100\n",
    "\n",
    "time_step = 100\n",
    "X_train, y_train = create_dataset(train_data, time_step)\n",
    "X_test, ytest = create_dataset(test_data, time_step)"
   ]
  },
  {
   "cell_type": "code",
   "execution_count": 80,
   "metadata": {},
   "outputs": [],
   "source": [
    "# last one says one feature.\n",
    "X_train =X_train.reshape(X_train.shape[0],X_train.shape[1] , 1)\n",
    "X_test = X_test.reshape(X_test.shape[0],X_test.shape[1] , 1)"
   ]
  },
  {
   "cell_type": "code",
   "execution_count": 81,
   "metadata": {},
   "outputs": [],
   "source": [
    "from tensorflow.keras.models import Sequential\n",
    "from tensorflow.keras.layers import Dense\n",
    "from tensorflow.keras.layers import LSTM"
   ]
  },
  {
   "cell_type": "code",
   "execution_count": 82,
   "metadata": {},
   "outputs": [
    {
     "name": "stdout",
     "output_type": "stream",
     "text": [
      "Epoch 1/100\n",
      "12/12 [==============================] - 8s 199ms/step - loss: 0.0981 - val_loss: 0.0317\n",
      "Epoch 2/100\n",
      "12/12 [==============================] - 1s 93ms/step - loss: 0.0134 - val_loss: 0.0048\n",
      "Epoch 3/100\n",
      "12/12 [==============================] - 1s 95ms/step - loss: 0.0081 - val_loss: 0.0083\n",
      "Epoch 4/100\n",
      "12/12 [==============================] - 1s 97ms/step - loss: 0.0052 - val_loss: 0.0070\n",
      "Epoch 5/100\n",
      "12/12 [==============================] - 1s 95ms/step - loss: 0.0039 - val_loss: 0.0046\n",
      "Epoch 6/100\n",
      "12/12 [==============================] - 1s 93ms/step - loss: 0.0033 - val_loss: 0.0035\n",
      "Epoch 7/100\n",
      "12/12 [==============================] - 1s 94ms/step - loss: 0.0033 - val_loss: 0.0035\n",
      "Epoch 8/100\n",
      "12/12 [==============================] - 1s 96ms/step - loss: 0.0031 - val_loss: 0.0035\n",
      "Epoch 9/100\n",
      "12/12 [==============================] - 1s 98ms/step - loss: 0.0031 - val_loss: 0.0040\n",
      "Epoch 10/100\n",
      "12/12 [==============================] - 1s 94ms/step - loss: 0.0031 - val_loss: 0.0030\n",
      "Epoch 11/100\n",
      "12/12 [==============================] - 1s 96ms/step - loss: 0.0030 - val_loss: 0.0031\n",
      "Epoch 12/100\n",
      "12/12 [==============================] - 1s 95ms/step - loss: 0.0029 - val_loss: 0.0032\n",
      "Epoch 13/100\n",
      "12/12 [==============================] - 1s 93ms/step - loss: 0.0028 - val_loss: 0.0032\n",
      "Epoch 14/100\n",
      "12/12 [==============================] - 1s 111ms/step - loss: 0.0027 - val_loss: 0.0029\n",
      "Epoch 15/100\n",
      "12/12 [==============================] - 2s 142ms/step - loss: 0.0026 - val_loss: 0.0024\n",
      "Epoch 16/100\n",
      "12/12 [==============================] - 2s 137ms/step - loss: 0.0026 - val_loss: 0.0024\n",
      "Epoch 17/100\n",
      "12/12 [==============================] - 1s 111ms/step - loss: 0.0025 - val_loss: 0.0027\n",
      "Epoch 18/100\n",
      "12/12 [==============================] - 1s 98ms/step - loss: 0.0025 - val_loss: 0.0021\n",
      "Epoch 19/100\n",
      "12/12 [==============================] - 1s 108ms/step - loss: 0.0024 - val_loss: 0.0022\n",
      "Epoch 20/100\n",
      "12/12 [==============================] - 1s 109ms/step - loss: 0.0023 - val_loss: 0.0027\n",
      "Epoch 21/100\n",
      "12/12 [==============================] - 1s 96ms/step - loss: 0.0026 - val_loss: 0.0020\n",
      "Epoch 22/100\n",
      "12/12 [==============================] - 1s 109ms/step - loss: 0.0026 - val_loss: 0.0021\n",
      "Epoch 23/100\n",
      "12/12 [==============================] - 1s 126ms/step - loss: 0.0023 - val_loss: 0.0034\n",
      "Epoch 24/100\n",
      "12/12 [==============================] - 1s 110ms/step - loss: 0.0023 - val_loss: 0.0028\n",
      "Epoch 25/100\n",
      "12/12 [==============================] - 1s 113ms/step - loss: 0.0023 - val_loss: 0.0018\n",
      "Epoch 26/100\n",
      "12/12 [==============================] - 1s 105ms/step - loss: 0.0022 - val_loss: 0.0029\n",
      "Epoch 27/100\n",
      "12/12 [==============================] - 1s 106ms/step - loss: 0.0022 - val_loss: 0.0019\n",
      "Epoch 28/100\n",
      "12/12 [==============================] - 1s 99ms/step - loss: 0.0023 - val_loss: 0.0026\n",
      "Epoch 29/100\n",
      "12/12 [==============================] - 1s 96ms/step - loss: 0.0021 - val_loss: 0.0023\n",
      "Epoch 30/100\n",
      "12/12 [==============================] - 1s 97ms/step - loss: 0.0023 - val_loss: 0.0020\n",
      "Epoch 31/100\n",
      "12/12 [==============================] - 1s 104ms/step - loss: 0.0023 - val_loss: 0.0024\n",
      "Epoch 32/100\n",
      "12/12 [==============================] - 1s 101ms/step - loss: 0.0021 - val_loss: 0.0016\n",
      "Epoch 33/100\n",
      "12/12 [==============================] - 1s 109ms/step - loss: 0.0021 - val_loss: 0.0018\n",
      "Epoch 34/100\n",
      "12/12 [==============================] - 1s 122ms/step - loss: 0.0019 - val_loss: 0.0016\n",
      "Epoch 35/100\n",
      "12/12 [==============================] - 1s 114ms/step - loss: 0.0019 - val_loss: 0.0015\n",
      "Epoch 36/100\n",
      "12/12 [==============================] - 2s 130ms/step - loss: 0.0020 - val_loss: 0.0030\n",
      "Epoch 37/100\n",
      "12/12 [==============================] - 1s 101ms/step - loss: 0.0020 - val_loss: 0.0019\n",
      "Epoch 38/100\n",
      "12/12 [==============================] - 1s 99ms/step - loss: 0.0018 - val_loss: 0.0014\n",
      "Epoch 39/100\n",
      "12/12 [==============================] - 2s 132ms/step - loss: 0.0020 - val_loss: 0.0014\n",
      "Epoch 40/100\n",
      "12/12 [==============================] - 2s 137ms/step - loss: 0.0021 - val_loss: 0.0018\n",
      "Epoch 41/100\n",
      "12/12 [==============================] - 2s 135ms/step - loss: 0.0018 - val_loss: 0.0014\n",
      "Epoch 42/100\n",
      "12/12 [==============================] - 2s 140ms/step - loss: 0.0020 - val_loss: 0.0028\n",
      "Epoch 43/100\n",
      "12/12 [==============================] - 2s 130ms/step - loss: 0.0019 - val_loss: 0.0015\n",
      "Epoch 44/100\n",
      "12/12 [==============================] - 1s 106ms/step - loss: 0.0019 - val_loss: 0.0025\n",
      "Epoch 45/100\n",
      "12/12 [==============================] - 1s 128ms/step - loss: 0.0017 - val_loss: 0.0012\n",
      "Epoch 46/100\n",
      "12/12 [==============================] - 2s 156ms/step - loss: 0.0016 - val_loss: 0.0014\n",
      "Epoch 47/100\n",
      "12/12 [==============================] - 2s 148ms/step - loss: 0.0016 - val_loss: 0.0011\n",
      "Epoch 48/100\n",
      "12/12 [==============================] - 2s 127ms/step - loss: 0.0015 - val_loss: 0.0011\n",
      "Epoch 49/100\n",
      "12/12 [==============================] - 1s 112ms/step - loss: 0.0014 - val_loss: 0.0017\n",
      "Epoch 50/100\n",
      "12/12 [==============================] - 1s 99ms/step - loss: 0.0014 - val_loss: 0.0030\n",
      "Epoch 51/100\n",
      "12/12 [==============================] - 1s 107ms/step - loss: 0.0018 - val_loss: 9.7728e-04\n",
      "Epoch 52/100\n",
      "12/12 [==============================] - 1s 99ms/step - loss: 0.0016 - val_loss: 9.4144e-04\n",
      "Epoch 53/100\n",
      "12/12 [==============================] - 1s 102ms/step - loss: 0.0014 - val_loss: 0.0017\n",
      "Epoch 54/100\n",
      "12/12 [==============================] - 2s 150ms/step - loss: 0.0013 - val_loss: 0.0017\n",
      "Epoch 55/100\n",
      "12/12 [==============================] - 2s 144ms/step - loss: 0.0013 - val_loss: 8.8297e-04\n",
      "Epoch 56/100\n",
      "12/12 [==============================] - 1s 106ms/step - loss: 0.0011 - val_loss: 9.8720e-04\n",
      "Epoch 57/100\n",
      "12/12 [==============================] - 1s 114ms/step - loss: 0.0013 - val_loss: 9.1439e-04\n",
      "Epoch 58/100\n",
      "12/12 [==============================] - 1s 92ms/step - loss: 0.0012 - val_loss: 0.0016\n",
      "Epoch 59/100\n",
      "12/12 [==============================] - 1s 92ms/step - loss: 0.0011 - val_loss: 8.3802e-04\n",
      "Epoch 60/100\n",
      "12/12 [==============================] - 1s 95ms/step - loss: 0.0010 - val_loss: 0.0013\n",
      "Epoch 61/100\n",
      "12/12 [==============================] - 1s 97ms/step - loss: 0.0012 - val_loss: 8.1093e-04\n",
      "Epoch 62/100\n",
      "12/12 [==============================] - 1s 105ms/step - loss: 0.0014 - val_loss: 0.0024\n",
      "Epoch 63/100\n",
      "12/12 [==============================] - 1s 99ms/step - loss: 0.0011 - val_loss: 7.8783e-04\n",
      "Epoch 64/100\n",
      "12/12 [==============================] - 1s 100ms/step - loss: 9.2319e-04 - val_loss: 8.0663e-04\n",
      "Epoch 65/100\n",
      "12/12 [==============================] - 1s 99ms/step - loss: 9.8976e-04 - val_loss: 0.0015\n",
      "Epoch 66/100\n",
      "12/12 [==============================] - 1s 101ms/step - loss: 9.2043e-04 - val_loss: 7.3899e-04\n",
      "Epoch 67/100\n",
      "12/12 [==============================] - 1s 114ms/step - loss: 8.5127e-04 - val_loss: 7.3404e-04\n",
      "Epoch 68/100\n",
      "12/12 [==============================] - 1s 120ms/step - loss: 8.7372e-04 - val_loss: 0.0012\n",
      "Epoch 69/100\n",
      "12/12 [==============================] - 1s 114ms/step - loss: 9.6455e-04 - val_loss: 9.6901e-04\n",
      "Epoch 70/100\n",
      "12/12 [==============================] - 1s 112ms/step - loss: 8.0833e-04 - val_loss: 0.0013\n",
      "Epoch 71/100\n",
      "12/12 [==============================] - 1s 122ms/step - loss: 8.4265e-04 - val_loss: 0.0014\n",
      "Epoch 72/100\n",
      "12/12 [==============================] - 1s 109ms/step - loss: 9.2669e-04 - val_loss: 0.0014\n",
      "Epoch 73/100\n",
      "12/12 [==============================] - 1s 107ms/step - loss: 8.5963e-04 - val_loss: 8.6065e-04\n",
      "Epoch 74/100\n",
      "12/12 [==============================] - 1s 116ms/step - loss: 7.6701e-04 - val_loss: 6.5652e-04\n",
      "Epoch 75/100\n",
      "12/12 [==============================] - 1s 123ms/step - loss: 7.5438e-04 - val_loss: 6.6673e-04\n",
      "Epoch 76/100\n",
      "12/12 [==============================] - 1s 115ms/step - loss: 7.5903e-04 - val_loss: 7.6477e-04\n",
      "Epoch 77/100\n",
      "12/12 [==============================] - 1s 109ms/step - loss: 7.5492e-04 - val_loss: 6.7631e-04\n",
      "Epoch 78/100\n",
      "12/12 [==============================] - 1s 122ms/step - loss: 7.0829e-04 - val_loss: 0.0013\n",
      "Epoch 79/100\n",
      "12/12 [==============================] - 1s 127ms/step - loss: 8.0599e-04 - val_loss: 9.1099e-04\n",
      "Epoch 80/100\n",
      "12/12 [==============================] - 1s 125ms/step - loss: 7.4934e-04 - val_loss: 7.2621e-04\n",
      "Epoch 81/100\n",
      "12/12 [==============================] - 2s 138ms/step - loss: 6.7936e-04 - val_loss: 6.3656e-04\n",
      "Epoch 82/100\n",
      "12/12 [==============================] - 2s 144ms/step - loss: 6.9935e-04 - val_loss: 6.2172e-04\n",
      "Epoch 83/100\n",
      "12/12 [==============================] - 2s 119ms/step - loss: 6.5465e-04 - val_loss: 6.6641e-04\n",
      "Epoch 84/100\n",
      "12/12 [==============================] - 1s 116ms/step - loss: 6.5956e-04 - val_loss: 0.0011\n",
      "Epoch 85/100\n",
      "12/12 [==============================] - 2s 154ms/step - loss: 0.0011 - val_loss: 0.0014\n",
      "Epoch 86/100\n",
      "12/12 [==============================] - 2s 160ms/step - loss: 0.0011 - val_loss: 6.0915e-04\n",
      "Epoch 87/100\n",
      "12/12 [==============================] - 2s 129ms/step - loss: 6.6967e-04 - val_loss: 5.7437e-04\n",
      "Epoch 88/100\n",
      "12/12 [==============================] - 2s 137ms/step - loss: 7.1430e-04 - val_loss: 5.5735e-04\n",
      "Epoch 89/100\n",
      "12/12 [==============================] - 2s 131ms/step - loss: 7.1591e-04 - val_loss: 6.3006e-04\n",
      "Epoch 90/100\n",
      "12/12 [==============================] - 2s 161ms/step - loss: 8.2666e-04 - val_loss: 6.4552e-04\n",
      "Epoch 91/100\n",
      "12/12 [==============================] - 1s 118ms/step - loss: 7.0732e-04 - val_loss: 0.0014\n",
      "Epoch 92/100\n",
      "12/12 [==============================] - 1s 124ms/step - loss: 8.7430e-04 - val_loss: 0.0022\n",
      "Epoch 93/100\n",
      "12/12 [==============================] - 2s 202ms/step - loss: 0.0010 - val_loss: 7.4519e-04\n",
      "Epoch 94/100\n",
      "12/12 [==============================] - 2s 129ms/step - loss: 6.4230e-04 - val_loss: 6.2685e-04\n",
      "Epoch 95/100\n",
      "12/12 [==============================] - 1s 112ms/step - loss: 6.6016e-04 - val_loss: 6.2807e-04\n",
      "Epoch 96/100\n",
      "12/12 [==============================] - 1s 103ms/step - loss: 6.1896e-04 - val_loss: 5.2163e-04\n",
      "Epoch 97/100\n",
      "12/12 [==============================] - 1s 106ms/step - loss: 6.5803e-04 - val_loss: 6.4045e-04\n",
      "Epoch 98/100\n",
      "12/12 [==============================] - 1s 102ms/step - loss: 6.6338e-04 - val_loss: 8.8628e-04\n",
      "Epoch 99/100\n",
      "12/12 [==============================] - 1s 99ms/step - loss: 6.2265e-04 - val_loss: 6.9883e-04\n",
      "Epoch 100/100\n",
      "12/12 [==============================] - 1s 103ms/step - loss: 5.7869e-04 - val_loss: 5.5846e-04\n"
     ]
    },
    {
     "data": {
      "text/plain": [
       "<keras.callbacks.History at 0x1768f4790>"
      ]
     },
     "execution_count": 82,
     "metadata": {},
     "output_type": "execute_result"
    }
   ],
   "source": [
    "model=Sequential()\n",
    "model.add(LSTM(50,return_sequences=True,input_shape=(100,1)))\n",
    "model.add(LSTM(50,return_sequences=True))\n",
    "model.add(LSTM(50))\n",
    "model.add(Dense(1))\n",
    "model.compile(loss='mean_squared_error',optimizer='adam')\n",
    "model.fit(X_train,y_train,validation_data=(X_test,ytest),epochs=100,batch_size=64,verbose=1)\n"
   ]
  },
  {
   "cell_type": "code",
   "execution_count": 83,
   "metadata": {},
   "outputs": [],
   "source": [
    "import tensorflow as tf\n"
   ]
  },
  {
   "cell_type": "code",
   "execution_count": 84,
   "metadata": {},
   "outputs": [
    {
     "name": "stdout",
     "output_type": "stream",
     "text": [
      "23/23 [==============================] - 2s 19ms/step\n",
      "11/11 [==============================] - 0s 22ms/step\n"
     ]
    }
   ],
   "source": [
    "### Lets Do the prediction and check performance metrics\n",
    "train_predict=model.predict(X_train)\n",
    "test_predict=model.predict(X_test)"
   ]
  },
  {
   "cell_type": "code",
   "execution_count": 85,
   "metadata": {},
   "outputs": [],
   "source": [
    "#  tranforms the scaled values back to the original\n",
    "train_predict=scaler.inverse_transform(train_predict)\n",
    "test_predict=scaler.inverse_transform(test_predict)"
   ]
  },
  {
   "cell_type": "code",
   "execution_count": 86,
   "metadata": {},
   "outputs": [
    {
     "data": {
      "text/plain": [
       "38.36836262125126"
      ]
     },
     "execution_count": 86,
     "metadata": {},
     "output_type": "execute_result"
    }
   ],
   "source": [
    "import math\n",
    "from sklearn.metrics import mean_squared_error\n",
    "math.sqrt(mean_squared_error(y_train,train_predict))"
   ]
  },
  {
   "cell_type": "code",
   "execution_count": 87,
   "metadata": {},
   "outputs": [
    {
     "data": {
      "text/plain": [
       "46.28699960457477"
      ]
     },
     "execution_count": 87,
     "metadata": {},
     "output_type": "execute_result"
    }
   ],
   "source": [
    "math.sqrt(mean_squared_error(ytest,test_predict))\n"
   ]
  },
  {
   "cell_type": "code",
   "execution_count": 88,
   "metadata": {},
   "outputs": [
    {
     "data": {
      "image/png": "[encoded data removed]",
      "text/plain": [
       "<Figure size 432x288 with 1 Axes>"
      ]
     },
     "metadata": {
      "needs_background": "light"
     },
     "output_type": "display_data"
    }
   ],
   "source": [
    "### Plotting \n",
    "# shift train predictions for plotting\n",
    "look_back=100\n",
    "trainPredictPlot = numpy.empty_like(df1)\n",
    "trainPredictPlot[:, :] = np.nan\n",
    "trainPredictPlot[look_back:len(train_predict)+look_back, :] = train_predict\n",
    "# shift test predictions for plotting\n",
    "testPredictPlot = numpy.empty_like(df1)\n",
    "testPredictPlot[:, :] = numpy.nan\n",
    "testPredictPlot[len(train_predict)+(look_back*2)+1:len(df1)-1, :] = test_predict\n",
    "# plot baseline and predictions\n",
    "plt.plot(scaler.inverse_transform(df1))\n",
    "plt.plot(trainPredictPlot)\n",
    "plt.plot(testPredictPlot)\n",
    "plt.show()\n"
   ]
  }
 ],
 "metadata": {
  "interpreter": {
   "hash": "aee8b7b246df8f9039afb4144a1f6fd8d2ca17a180786b69acc140d282b71a49"
  },
  "kernelspec": {
   "display_name": "Python 3.10.0 64-bit",
   "language": "python",
   "name": "python3"
  },
  "language_info": {
   "codemirror_mode": {
    "name": "ipython",
    "version": 3
   },
   "file_extension": ".py",
   "mimetype": "text/x-python",
   "name": "python",
   "nbconvert_exporter": "python",
   "pygments_lexer": "ipython3",
   "version": "3.10.0"
  },
  "orig_nbformat": 4
 },
 "nbformat": 4,
 "nbformat_minor": 2
}
