{
 "cells": [
  {
   "cell_type": "markdown",
   "metadata": {},
   "source": [
    "## CS 4661 Project\n",
    "# Predicting Stock Market Prices\n",
    "Members: Nshan Kazaryan, Bailey Canham, Ly Jacky Nhiayi, Asahel Monroy"
   ]
  },
  {
   "cell_type": "code",
   "execution_count": 223,
   "metadata": {},
   "outputs": [],
   "source": [
    "# import necessary tools\n",
    "import numpy as np\n",
    "import pandas as pd\n",
    "from sklearn.preprocessing import scale\n",
    "import matplotlib.pyplot as plt\n",
    "\n"
   ]
  },
  {
   "cell_type": "code",
   "execution_count": 224,
   "metadata": {},
   "outputs": [],
   "source": [
    "# read csv file\n",
    "stock_df = pd.read_csv(\"https://raw.githubusercontent.com/LyJacky/stocks/4802f4e0f139ee0568afbad309086d90c78a53b7/all_stocks_5yr.csv\")\n",
    "import datetime as dt\n",
    "stock_df['date'] = pd.to_datetime(stock_df['date'])\n",
    "stock_df['date']=stock_df['date'].map(dt.datetime.toordinal)\n",
    "# gets the top 10 stocks in alphabetical order\n",
    "# stock_df_top10 sstock_df_aal = stock_df[0:1259]tock_df[0:12590]"
   ]
  },
  {
   "cell_type": "code",
   "execution_count": 225,
   "metadata": {},
   "outputs": [
    {
     "data": {
      "text/html": [
       "<div>\n",
       "<style scoped>\n",
       "    .dataframe tbody tr th:only-of-type {\n",
       "        vertical-align: middle;\n",
       "    }\n",
       "\n",
       "    .dataframe tbody tr th {\n",
       "        vertical-align: top;\n",
       "    }\n",
       "\n",
       "    .dataframe thead th {\n",
       "        text-align: right;\n",
       "    }\n",
       "</style>\n",
       "<table border=\"1\" class=\"dataframe\">\n",
       "  <thead>\n",
       "    <tr style=\"text-align: right;\">\n",
       "      <th></th>\n",
       "      <th>100_entry_avg</th>\n",
       "      <th>50_entry_avg</th>\n",
       "      <th>30_entry_avg</th>\n",
       "      <th>weekly_avg</th>\n",
       "      <th>date</th>\n",
       "      <th>close</th>\n",
       "      <th>Name</th>\n",
       "    </tr>\n",
       "  </thead>\n",
       "  <tbody>\n",
       "    <tr>\n",
       "      <th>0</th>\n",
       "      <td></td>\n",
       "      <td></td>\n",
       "      <td></td>\n",
       "      <td></td>\n",
       "      <td>734907</td>\n",
       "      <td>14.75</td>\n",
       "      <td>AAL</td>\n",
       "    </tr>\n",
       "    <tr>\n",
       "      <th>1</th>\n",
       "      <td></td>\n",
       "      <td></td>\n",
       "      <td></td>\n",
       "      <td></td>\n",
       "      <td>734910</td>\n",
       "      <td>14.46</td>\n",
       "      <td>AAL</td>\n",
       "    </tr>\n",
       "    <tr>\n",
       "      <th>2</th>\n",
       "      <td></td>\n",
       "      <td></td>\n",
       "      <td></td>\n",
       "      <td></td>\n",
       "      <td>734911</td>\n",
       "      <td>14.27</td>\n",
       "      <td>AAL</td>\n",
       "    </tr>\n",
       "    <tr>\n",
       "      <th>3</th>\n",
       "      <td></td>\n",
       "      <td></td>\n",
       "      <td></td>\n",
       "      <td></td>\n",
       "      <td>734912</td>\n",
       "      <td>14.66</td>\n",
       "      <td>AAL</td>\n",
       "    </tr>\n",
       "    <tr>\n",
       "      <th>4</th>\n",
       "      <td></td>\n",
       "      <td></td>\n",
       "      <td></td>\n",
       "      <td></td>\n",
       "      <td>734913</td>\n",
       "      <td>13.99</td>\n",
       "      <td>AAL</td>\n",
       "    </tr>\n",
       "    <tr>\n",
       "      <th>...</th>\n",
       "      <td>...</td>\n",
       "      <td>...</td>\n",
       "      <td>...</td>\n",
       "      <td>...</td>\n",
       "      <td>...</td>\n",
       "      <td>...</td>\n",
       "      <td>...</td>\n",
       "    </tr>\n",
       "    <tr>\n",
       "      <th>1254</th>\n",
       "      <td></td>\n",
       "      <td></td>\n",
       "      <td></td>\n",
       "      <td></td>\n",
       "      <td>736726</td>\n",
       "      <td>53.88</td>\n",
       "      <td>AAL</td>\n",
       "    </tr>\n",
       "    <tr>\n",
       "      <th>1255</th>\n",
       "      <td></td>\n",
       "      <td></td>\n",
       "      <td></td>\n",
       "      <td></td>\n",
       "      <td>736727</td>\n",
       "      <td>52.10</td>\n",
       "      <td>AAL</td>\n",
       "    </tr>\n",
       "    <tr>\n",
       "      <th>1256</th>\n",
       "      <td></td>\n",
       "      <td></td>\n",
       "      <td></td>\n",
       "      <td></td>\n",
       "      <td>736730</td>\n",
       "      <td>49.76</td>\n",
       "      <td>AAL</td>\n",
       "    </tr>\n",
       "    <tr>\n",
       "      <th>1257</th>\n",
       "      <td></td>\n",
       "      <td></td>\n",
       "      <td></td>\n",
       "      <td></td>\n",
       "      <td>736731</td>\n",
       "      <td>51.18</td>\n",
       "      <td>AAL</td>\n",
       "    </tr>\n",
       "    <tr>\n",
       "      <th>1258</th>\n",
       "      <td></td>\n",
       "      <td></td>\n",
       "      <td></td>\n",
       "      <td></td>\n",
       "      <td>736732</td>\n",
       "      <td>51.40</td>\n",
       "      <td>AAL</td>\n",
       "    </tr>\n",
       "  </tbody>\n",
       "</table>\n",
       "<p>1259 rows × 7 columns</p>\n",
       "</div>"
      ],
      "text/plain": [
       "     100_entry_avg 50_entry_avg 30_entry_avg weekly_avg    date  close Name\n",
       "0                                                        734907  14.75  AAL\n",
       "1                                                        734910  14.46  AAL\n",
       "2                                                        734911  14.27  AAL\n",
       "3                                                        734912  14.66  AAL\n",
       "4                                                        734913  13.99  AAL\n",
       "...            ...          ...          ...        ...     ...    ...  ...\n",
       "1254                                                     736726  53.88  AAL\n",
       "1255                                                     736727  52.10  AAL\n",
       "1256                                                     736730  49.76  AAL\n",
       "1257                                                     736731  51.18  AAL\n",
       "1258                                                     736732  51.40  AAL\n",
       "\n",
       "[1259 rows x 7 columns]"
      ]
     },
     "execution_count": 225,
     "metadata": {},
     "output_type": "execute_result"
    }
   ],
   "source": [
    "# stock_df_top10[::1259]\n",
    "# stock_df['date']=stock_df['date'].map(dt.datetime.fromordinal)\n",
    "# import pandas_ta\n",
    "\n",
    "\n",
    "stock_df_aal = stock_df[0:1259]\n",
    "stock_df_aal.pop(\"open\")\n",
    "stock_df_aal.pop(\"low\")\n",
    "stock_df_aal.pop(\"high\")\n",
    "stock_df_aal.pop(\"volume\")\n",
    "# stock_df_aal.ta.ema(close='close', length=10, append=True)\n",
    "stock_df_aal.insert(0,\"weekly_avg\", \" \")\n",
    "stock_df_aal.insert(0,\"30_entry_avg\", \" \")\n",
    "stock_df_aal.insert(0,\"50_entry_avg\", \" \")\n",
    "stock_df_aal.insert(0,\"100_entry_avg\", \" \")\n",
    "stock_df_aal"
   ]
  },
  {
   "cell_type": "code",
   "execution_count": 226,
   "metadata": {},
   "outputs": [
    {
     "name": "stdout",
     "output_type": "stream",
     "text": [
      "14.356666666666667\n"
     ]
    },
    {
     "data": {
      "text/plain": [
       "0    14.75\n",
       "1    14.46\n",
       "2    14.27\n",
       "3    14.66\n",
       "4    13.99\n",
       "5    14.50\n",
       "6    14.26\n",
       "Name: close, dtype: float64"
      ]
     },
     "execution_count": 226,
     "metadata": {},
     "output_type": "execute_result"
    }
   ],
   "source": [
    "print(stock_df[\"close\"][1:7].mean())\n",
    "stock_df[\"close\"][0:7]"
   ]
  },
  {
   "cell_type": "code",
   "execution_count": 227,
   "metadata": {},
   "outputs": [
    {
     "name": "stderr",
     "output_type": "stream",
     "text": [
      "<ipython-input-227-1db80a657016>:2: SettingWithCopyWarning: \n",
      "A value is trying to be set on a copy of a slice from a DataFrame\n",
      "\n",
      "See the caveats in the documentation: https://pandas.pydata.org/pandas-docs/stable/user_guide/indexing.html#returning-a-view-versus-a-copy\n",
      "  stock_df_aal[\"weekly_avg\"][x] = stock_df[\"close\"][x-14:x-7].mean()\n",
      "/Users/jacky/opt/anaconda3/lib/python3.8/site-packages/IPython/core/interactiveshell.py:3437: SettingWithCopyWarning: \n",
      "A value is trying to be set on a copy of a slice from a DataFrame\n",
      "\n",
      "See the caveats in the documentation: https://pandas.pydata.org/pandas-docs/stable/user_guide/indexing.html#returning-a-view-versus-a-copy\n",
      "  exec(code_obj, self.user_global_ns, self.user_ns)\n",
      "<ipython-input-227-1db80a657016>:4: SettingWithCopyWarning: \n",
      "A value is trying to be set on a copy of a slice from a DataFrame\n",
      "\n",
      "See the caveats in the documentation: https://pandas.pydata.org/pandas-docs/stable/user_guide/indexing.html#returning-a-view-versus-a-copy\n",
      "  stock_df_aal[\"30_entry_avg\"][x] = stock_df[\"close\"][x-30-7:x-7].mean()\n",
      "<ipython-input-227-1db80a657016>:6: SettingWithCopyWarning: \n",
      "A value is trying to be set on a copy of a slice from a DataFrame\n",
      "\n",
      "See the caveats in the documentation: https://pandas.pydata.org/pandas-docs/stable/user_guide/indexing.html#returning-a-view-versus-a-copy\n",
      "  stock_df_aal[\"50_entry_avg\"][x] = stock_df[\"close\"][x-50-7:x-7].mean()\n",
      "<ipython-input-227-1db80a657016>:8: SettingWithCopyWarning: \n",
      "A value is trying to be set on a copy of a slice from a DataFrame\n",
      "\n",
      "See the caveats in the documentation: https://pandas.pydata.org/pandas-docs/stable/user_guide/indexing.html#returning-a-view-versus-a-copy\n",
      "  stock_df_aal[\"100_entry_avg\"][x] = stock_df[\"close\"][x-100-7:x-7].mean()\n"
     ]
    },
    {
     "data": {
      "text/html": [
       "<div>\n",
       "<style scoped>\n",
       "    .dataframe tbody tr th:only-of-type {\n",
       "        vertical-align: middle;\n",
       "    }\n",
       "\n",
       "    .dataframe tbody tr th {\n",
       "        vertical-align: top;\n",
       "    }\n",
       "\n",
       "    .dataframe thead th {\n",
       "        text-align: right;\n",
       "    }\n",
       "</style>\n",
       "<table border=\"1\" class=\"dataframe\">\n",
       "  <thead>\n",
       "    <tr style=\"text-align: right;\">\n",
       "      <th></th>\n",
       "      <th>100_entry_avg</th>\n",
       "      <th>50_entry_avg</th>\n",
       "      <th>30_entry_avg</th>\n",
       "      <th>weekly_avg</th>\n",
       "      <th>date</th>\n",
       "      <th>close</th>\n",
       "      <th>Name</th>\n",
       "    </tr>\n",
       "  </thead>\n",
       "  <tbody>\n",
       "    <tr>\n",
       "      <th>0</th>\n",
       "      <td></td>\n",
       "      <td></td>\n",
       "      <td></td>\n",
       "      <td></td>\n",
       "      <td>734907</td>\n",
       "      <td>14.75</td>\n",
       "      <td>AAL</td>\n",
       "    </tr>\n",
       "    <tr>\n",
       "      <th>1</th>\n",
       "      <td></td>\n",
       "      <td></td>\n",
       "      <td></td>\n",
       "      <td></td>\n",
       "      <td>734910</td>\n",
       "      <td>14.46</td>\n",
       "      <td>AAL</td>\n",
       "    </tr>\n",
       "    <tr>\n",
       "      <th>2</th>\n",
       "      <td></td>\n",
       "      <td></td>\n",
       "      <td></td>\n",
       "      <td></td>\n",
       "      <td>734911</td>\n",
       "      <td>14.27</td>\n",
       "      <td>AAL</td>\n",
       "    </tr>\n",
       "    <tr>\n",
       "      <th>3</th>\n",
       "      <td></td>\n",
       "      <td></td>\n",
       "      <td></td>\n",
       "      <td></td>\n",
       "      <td>734912</td>\n",
       "      <td>14.66</td>\n",
       "      <td>AAL</td>\n",
       "    </tr>\n",
       "    <tr>\n",
       "      <th>4</th>\n",
       "      <td></td>\n",
       "      <td></td>\n",
       "      <td></td>\n",
       "      <td></td>\n",
       "      <td>734913</td>\n",
       "      <td>13.99</td>\n",
       "      <td>AAL</td>\n",
       "    </tr>\n",
       "    <tr>\n",
       "      <th>...</th>\n",
       "      <td>...</td>\n",
       "      <td>...</td>\n",
       "      <td>...</td>\n",
       "      <td>...</td>\n",
       "      <td>...</td>\n",
       "      <td>...</td>\n",
       "      <td>...</td>\n",
       "    </tr>\n",
       "    <tr>\n",
       "      <th>1254</th>\n",
       "      <td>49.6466</td>\n",
       "      <td>51.1978</td>\n",
       "      <td>53.305667</td>\n",
       "      <td>57.932857</td>\n",
       "      <td>736726</td>\n",
       "      <td>53.88</td>\n",
       "      <td>AAL</td>\n",
       "    </tr>\n",
       "    <tr>\n",
       "      <th>1255</th>\n",
       "      <td>49.7839</td>\n",
       "      <td>51.4362</td>\n",
       "      <td>53.552667</td>\n",
       "      <td>58.2</td>\n",
       "      <td>736727</td>\n",
       "      <td>52.10</td>\n",
       "      <td>AAL</td>\n",
       "    </tr>\n",
       "    <tr>\n",
       "      <th>1256</th>\n",
       "      <td>49.8886</td>\n",
       "      <td>51.6166</td>\n",
       "      <td>53.678333</td>\n",
       "      <td>57.674286</td>\n",
       "      <td>736730</td>\n",
       "      <td>49.76</td>\n",
       "      <td>AAL</td>\n",
       "    </tr>\n",
       "    <tr>\n",
       "      <th>1257</th>\n",
       "      <td>49.9717</td>\n",
       "      <td>51.7612</td>\n",
       "      <td>53.736667</td>\n",
       "      <td>56.97</td>\n",
       "      <td>736731</td>\n",
       "      <td>51.18</td>\n",
       "      <td>AAL</td>\n",
       "    </tr>\n",
       "    <tr>\n",
       "      <th>1258</th>\n",
       "      <td>50.0493</td>\n",
       "      <td>51.9078</td>\n",
       "      <td>53.823333</td>\n",
       "      <td>56.242857</td>\n",
       "      <td>736732</td>\n",
       "      <td>51.40</td>\n",
       "      <td>AAL</td>\n",
       "    </tr>\n",
       "  </tbody>\n",
       "</table>\n",
       "<p>1259 rows × 7 columns</p>\n",
       "</div>"
      ],
      "text/plain": [
       "     100_entry_avg 50_entry_avg 30_entry_avg weekly_avg    date  close Name\n",
       "0                                                        734907  14.75  AAL\n",
       "1                                                        734910  14.46  AAL\n",
       "2                                                        734911  14.27  AAL\n",
       "3                                                        734912  14.66  AAL\n",
       "4                                                        734913  13.99  AAL\n",
       "...            ...          ...          ...        ...     ...    ...  ...\n",
       "1254       49.6466      51.1978    53.305667  57.932857  736726  53.88  AAL\n",
       "1255       49.7839      51.4362    53.552667       58.2  736727  52.10  AAL\n",
       "1256       49.8886      51.6166    53.678333  57.674286  736730  49.76  AAL\n",
       "1257       49.9717      51.7612    53.736667      56.97  736731  51.18  AAL\n",
       "1258       50.0493      51.9078    53.823333  56.242857  736732  51.40  AAL\n",
       "\n",
       "[1259 rows x 7 columns]"
      ]
     },
     "execution_count": 227,
     "metadata": {},
     "output_type": "execute_result"
    }
   ],
   "source": [
    "for x in range(14,1259):\n",
    "    stock_df_aal[\"weekly_avg\"][x] = stock_df[\"close\"][x-14:x-7].mean()\n",
    "for x in range(37,1259):\n",
    "    stock_df_aal[\"30_entry_avg\"][x] = stock_df[\"close\"][x-30-7:x-7].mean()\n",
    "for x in range(57,1259):\n",
    "    stock_df_aal[\"50_entry_avg\"][x] = stock_df[\"close\"][x-50-7:x-7].mean()\n",
    "for x in range(107,1259):\n",
    "    stock_df_aal[\"100_entry_avg\"][x] = stock_df[\"close\"][x-100-7:x-7].mean()\n",
    "stock_df_aal"
   ]
  },
  {
   "cell_type": "code",
   "execution_count": 228,
   "metadata": {},
   "outputs": [
    {
     "data": {
      "text/html": [
       "<div>\n",
       "<style scoped>\n",
       "    .dataframe tbody tr th:only-of-type {\n",
       "        vertical-align: middle;\n",
       "    }\n",
       "\n",
       "    .dataframe tbody tr th {\n",
       "        vertical-align: top;\n",
       "    }\n",
       "\n",
       "    .dataframe thead th {\n",
       "        text-align: right;\n",
       "    }\n",
       "</style>\n",
       "<table border=\"1\" class=\"dataframe\">\n",
       "  <thead>\n",
       "    <tr style=\"text-align: right;\">\n",
       "      <th></th>\n",
       "      <th>100_entry_avg</th>\n",
       "      <th>50_entry_avg</th>\n",
       "      <th>30_entry_avg</th>\n",
       "      <th>weekly_avg</th>\n",
       "      <th>date</th>\n",
       "      <th>close</th>\n",
       "      <th>Name</th>\n",
       "    </tr>\n",
       "  </thead>\n",
       "  <tbody>\n",
       "    <tr>\n",
       "      <th>107</th>\n",
       "      <td>16.2605</td>\n",
       "      <td>17.2224</td>\n",
       "      <td>17.116</td>\n",
       "      <td>16.388571</td>\n",
       "      <td>735064</td>\n",
       "      <td>17.76</td>\n",
       "      <td>AAL</td>\n",
       "    </tr>\n",
       "    <tr>\n",
       "      <th>108</th>\n",
       "      <td>16.2805</td>\n",
       "      <td>17.2314</td>\n",
       "      <td>17.076</td>\n",
       "      <td>16.477143</td>\n",
       "      <td>735065</td>\n",
       "      <td>17.95</td>\n",
       "      <td>AAL</td>\n",
       "    </tr>\n",
       "    <tr>\n",
       "      <th>109</th>\n",
       "      <td>16.3043</td>\n",
       "      <td>17.2392</td>\n",
       "      <td>17.039667</td>\n",
       "      <td>16.531429</td>\n",
       "      <td>735066</td>\n",
       "      <td>18.45</td>\n",
       "      <td>AAL</td>\n",
       "    </tr>\n",
       "    <tr>\n",
       "      <th>110</th>\n",
       "      <td>16.331</td>\n",
       "      <td>17.2536</td>\n",
       "      <td>16.998</td>\n",
       "      <td>16.641429</td>\n",
       "      <td>735067</td>\n",
       "      <td>18.42</td>\n",
       "      <td>AAL</td>\n",
       "    </tr>\n",
       "    <tr>\n",
       "      <th>111</th>\n",
       "      <td>16.358</td>\n",
       "      <td>17.269</td>\n",
       "      <td>16.969667</td>\n",
       "      <td>16.791429</td>\n",
       "      <td>735068</td>\n",
       "      <td>18.23</td>\n",
       "      <td>AAL</td>\n",
       "    </tr>\n",
       "    <tr>\n",
       "      <th>...</th>\n",
       "      <td>...</td>\n",
       "      <td>...</td>\n",
       "      <td>...</td>\n",
       "      <td>...</td>\n",
       "      <td>...</td>\n",
       "      <td>...</td>\n",
       "      <td>...</td>\n",
       "    </tr>\n",
       "    <tr>\n",
       "      <th>1254</th>\n",
       "      <td>49.6466</td>\n",
       "      <td>51.1978</td>\n",
       "      <td>53.305667</td>\n",
       "      <td>57.932857</td>\n",
       "      <td>736726</td>\n",
       "      <td>53.88</td>\n",
       "      <td>AAL</td>\n",
       "    </tr>\n",
       "    <tr>\n",
       "      <th>1255</th>\n",
       "      <td>49.7839</td>\n",
       "      <td>51.4362</td>\n",
       "      <td>53.552667</td>\n",
       "      <td>58.2</td>\n",
       "      <td>736727</td>\n",
       "      <td>52.10</td>\n",
       "      <td>AAL</td>\n",
       "    </tr>\n",
       "    <tr>\n",
       "      <th>1256</th>\n",
       "      <td>49.8886</td>\n",
       "      <td>51.6166</td>\n",
       "      <td>53.678333</td>\n",
       "      <td>57.674286</td>\n",
       "      <td>736730</td>\n",
       "      <td>49.76</td>\n",
       "      <td>AAL</td>\n",
       "    </tr>\n",
       "    <tr>\n",
       "      <th>1257</th>\n",
       "      <td>49.9717</td>\n",
       "      <td>51.7612</td>\n",
       "      <td>53.736667</td>\n",
       "      <td>56.97</td>\n",
       "      <td>736731</td>\n",
       "      <td>51.18</td>\n",
       "      <td>AAL</td>\n",
       "    </tr>\n",
       "    <tr>\n",
       "      <th>1258</th>\n",
       "      <td>50.0493</td>\n",
       "      <td>51.9078</td>\n",
       "      <td>53.823333</td>\n",
       "      <td>56.242857</td>\n",
       "      <td>736732</td>\n",
       "      <td>51.40</td>\n",
       "      <td>AAL</td>\n",
       "    </tr>\n",
       "  </tbody>\n",
       "</table>\n",
       "<p>1152 rows × 7 columns</p>\n",
       "</div>"
      ],
      "text/plain": [
       "     100_entry_avg 50_entry_avg 30_entry_avg weekly_avg    date  close Name\n",
       "107        16.2605      17.2224       17.116  16.388571  735064  17.76  AAL\n",
       "108        16.2805      17.2314       17.076  16.477143  735065  17.95  AAL\n",
       "109        16.3043      17.2392    17.039667  16.531429  735066  18.45  AAL\n",
       "110         16.331      17.2536       16.998  16.641429  735067  18.42  AAL\n",
       "111         16.358       17.269    16.969667  16.791429  735068  18.23  AAL\n",
       "...            ...          ...          ...        ...     ...    ...  ...\n",
       "1254       49.6466      51.1978    53.305667  57.932857  736726  53.88  AAL\n",
       "1255       49.7839      51.4362    53.552667       58.2  736727  52.10  AAL\n",
       "1256       49.8886      51.6166    53.678333  57.674286  736730  49.76  AAL\n",
       "1257       49.9717      51.7612    53.736667      56.97  736731  51.18  AAL\n",
       "1258       50.0493      51.9078    53.823333  56.242857  736732  51.40  AAL\n",
       "\n",
       "[1152 rows x 7 columns]"
      ]
     },
     "execution_count": 228,
     "metadata": {},
     "output_type": "execute_result"
    }
   ],
   "source": [
    "stock_df_aal = stock_df_aal[107:1259]\n",
    "stock_df_aal"
   ]
  },
  {
   "cell_type": "code",
   "execution_count": 229,
   "metadata": {},
   "outputs": [
    {
     "data": {
      "text/plain": [
       "<AxesSubplot:>"
      ]
     },
     "execution_count": 229,
     "metadata": {},
     "output_type": "execute_result"
    },
    {
     "data": {
      "image/png": "[encoded data removed]",
      "text/plain": [
       "<Figure size 432x288 with 1 Axes>"
      ]
     },
     "metadata": {
      "needs_background": "light"
     },
     "output_type": "display_data"
    }
   ],
   "source": [
    "stock_df_aal.close.plot()"
   ]
  },
  {
   "cell_type": "code",
   "execution_count": 230,
   "metadata": {},
   "outputs": [
    {
     "data": {
      "text/html": [
       "<div>\n",
       "<style scoped>\n",
       "    .dataframe tbody tr th:only-of-type {\n",
       "        vertical-align: middle;\n",
       "    }\n",
       "\n",
       "    .dataframe tbody tr th {\n",
       "        vertical-align: top;\n",
       "    }\n",
       "\n",
       "    .dataframe thead th {\n",
       "        text-align: right;\n",
       "    }\n",
       "</style>\n",
       "<table border=\"1\" class=\"dataframe\">\n",
       "  <thead>\n",
       "    <tr style=\"text-align: right;\">\n",
       "      <th></th>\n",
       "      <th>100_entry_avg</th>\n",
       "      <th>50_entry_avg</th>\n",
       "      <th>30_entry_avg</th>\n",
       "      <th>weekly_avg</th>\n",
       "      <th>date</th>\n",
       "      <th>close</th>\n",
       "      <th>Name</th>\n",
       "    </tr>\n",
       "  </thead>\n",
       "  <tbody>\n",
       "    <tr>\n",
       "      <th>107</th>\n",
       "      <td>16.2605</td>\n",
       "      <td>17.2224</td>\n",
       "      <td>17.116</td>\n",
       "      <td>16.388571</td>\n",
       "      <td>735064</td>\n",
       "      <td>17.76</td>\n",
       "      <td>AAL</td>\n",
       "    </tr>\n",
       "    <tr>\n",
       "      <th>108</th>\n",
       "      <td>16.2805</td>\n",
       "      <td>17.2314</td>\n",
       "      <td>17.076</td>\n",
       "      <td>16.477143</td>\n",
       "      <td>735065</td>\n",
       "      <td>17.95</td>\n",
       "      <td>AAL</td>\n",
       "    </tr>\n",
       "    <tr>\n",
       "      <th>109</th>\n",
       "      <td>16.3043</td>\n",
       "      <td>17.2392</td>\n",
       "      <td>17.039667</td>\n",
       "      <td>16.531429</td>\n",
       "      <td>735066</td>\n",
       "      <td>18.45</td>\n",
       "      <td>AAL</td>\n",
       "    </tr>\n",
       "    <tr>\n",
       "      <th>110</th>\n",
       "      <td>16.331</td>\n",
       "      <td>17.2536</td>\n",
       "      <td>16.998</td>\n",
       "      <td>16.641429</td>\n",
       "      <td>735067</td>\n",
       "      <td>18.42</td>\n",
       "      <td>AAL</td>\n",
       "    </tr>\n",
       "    <tr>\n",
       "      <th>111</th>\n",
       "      <td>16.358</td>\n",
       "      <td>17.269</td>\n",
       "      <td>16.969667</td>\n",
       "      <td>16.791429</td>\n",
       "      <td>735068</td>\n",
       "      <td>18.23</td>\n",
       "      <td>AAL</td>\n",
       "    </tr>\n",
       "    <tr>\n",
       "      <th>...</th>\n",
       "      <td>...</td>\n",
       "      <td>...</td>\n",
       "      <td>...</td>\n",
       "      <td>...</td>\n",
       "      <td>...</td>\n",
       "      <td>...</td>\n",
       "      <td>...</td>\n",
       "    </tr>\n",
       "    <tr>\n",
       "      <th>1254</th>\n",
       "      <td>49.6466</td>\n",
       "      <td>51.1978</td>\n",
       "      <td>53.305667</td>\n",
       "      <td>57.932857</td>\n",
       "      <td>736726</td>\n",
       "      <td>53.88</td>\n",
       "      <td>AAL</td>\n",
       "    </tr>\n",
       "    <tr>\n",
       "      <th>1255</th>\n",
       "      <td>49.7839</td>\n",
       "      <td>51.4362</td>\n",
       "      <td>53.552667</td>\n",
       "      <td>58.2</td>\n",
       "      <td>736727</td>\n",
       "      <td>52.10</td>\n",
       "      <td>AAL</td>\n",
       "    </tr>\n",
       "    <tr>\n",
       "      <th>1256</th>\n",
       "      <td>49.8886</td>\n",
       "      <td>51.6166</td>\n",
       "      <td>53.678333</td>\n",
       "      <td>57.674286</td>\n",
       "      <td>736730</td>\n",
       "      <td>49.76</td>\n",
       "      <td>AAL</td>\n",
       "    </tr>\n",
       "    <tr>\n",
       "      <th>1257</th>\n",
       "      <td>49.9717</td>\n",
       "      <td>51.7612</td>\n",
       "      <td>53.736667</td>\n",
       "      <td>56.97</td>\n",
       "      <td>736731</td>\n",
       "      <td>51.18</td>\n",
       "      <td>AAL</td>\n",
       "    </tr>\n",
       "    <tr>\n",
       "      <th>1258</th>\n",
       "      <td>50.0493</td>\n",
       "      <td>51.9078</td>\n",
       "      <td>53.823333</td>\n",
       "      <td>56.242857</td>\n",
       "      <td>736732</td>\n",
       "      <td>51.40</td>\n",
       "      <td>AAL</td>\n",
       "    </tr>\n",
       "  </tbody>\n",
       "</table>\n",
       "<p>1152 rows × 7 columns</p>\n",
       "</div>"
      ],
      "text/plain": [
       "     100_entry_avg 50_entry_avg 30_entry_avg weekly_avg    date  close Name\n",
       "107        16.2605      17.2224       17.116  16.388571  735064  17.76  AAL\n",
       "108        16.2805      17.2314       17.076  16.477143  735065  17.95  AAL\n",
       "109        16.3043      17.2392    17.039667  16.531429  735066  18.45  AAL\n",
       "110         16.331      17.2536       16.998  16.641429  735067  18.42  AAL\n",
       "111         16.358       17.269    16.969667  16.791429  735068  18.23  AAL\n",
       "...            ...          ...          ...        ...     ...    ...  ...\n",
       "1254       49.6466      51.1978    53.305667  57.932857  736726  53.88  AAL\n",
       "1255       49.7839      51.4362    53.552667       58.2  736727  52.10  AAL\n",
       "1256       49.8886      51.6166    53.678333  57.674286  736730  49.76  AAL\n",
       "1257       49.9717      51.7612    53.736667      56.97  736731  51.18  AAL\n",
       "1258       50.0493      51.9078    53.823333  56.242857  736732  51.40  AAL\n",
       "\n",
       "[1152 rows x 7 columns]"
      ]
     },
     "execution_count": 230,
     "metadata": {},
     "output_type": "execute_result"
    }
   ],
   "source": [
    "stock_df_aal"
   ]
  },
  {
   "cell_type": "code",
   "execution_count": 231,
   "metadata": {},
   "outputs": [],
   "source": [
    "stock_df_aal.head()\n",
    "feature_cols_1 = [\"date\",\"100_entry_avg\",\"50_entry_avg\",\"30_entry_avg\",\"weekly_avg\"]\n",
    "feature_cols_2 = [\"date\",\"weekly_avg\"]\n",
    "feature_cols_3 = [\"date\",\"30_entry_avg\"]\n",
    "feature_cols_4 = [\"date\",\"100_entry_avg\"]\n",
    "feature_cols = [\"date\"]\n",
    "\n",
    "# feature_cols = [\"date\",\"30_entry_avg\"]\n",
    "\n",
    "\n",
    "X_all = scale(stock_df_aal[feature_cols_1])\n",
    "X_week = scale(stock_df_aal[feature_cols_2])\n",
    "X_month = scale(stock_df_aal[feature_cols_3])\n",
    "X_date_only = scale(stock_df_aal[feature_cols])\n",
    "X_100 = scale(stock_df_aal[feature_cols_4])\n",
    "\n",
    "y = stock_df_aal[\"close\"]\n",
    "# y = scale(stock_df_aal[\"close\"])\n",
    "# X = stock_df_aal[feature_cols]\n",
    "# y.plot()\n",
    "# X"
   ]
  },
  {
   "cell_type": "code",
   "execution_count": 243,
   "metadata": {},
   "outputs": [],
   "source": [
    "s_f = .6\n",
    "n_train = math.floor(s_f * X_all.shape[0])\n",
    "n_test = math.ceil((1-s_f) * X_all.shape[0])\n",
    "\n",
    "X_train_all = X_all[:n_train]\n",
    "y_train_all = y[:n_train]\n",
    "X_test_all = X_all[n_train:]\n",
    "y_test_all = y[n_train:]\n",
    "\n",
    "\n",
    "X_train_week = X_week[:n_train]\n",
    "y_train_week = y[:n_train]\n",
    "X_test_week = X_week[n_train:]\n",
    "y_test_week = y[n_train:]\n",
    "\n",
    "X_train_month = X_month[:n_train]\n",
    "y_train_month = y[:n_train]\n",
    "X_test_month = X_month[n_train:]\n",
    "y_test_month = y[n_train:]\n",
    "\n",
    "X_train_date_only = X_date_only[:n_train]\n",
    "y_train_date_only = y[:n_train]\n",
    "X_test_date_only = X_date_only[n_train:]\n",
    "y_test_date_only = y[n_train:]\n",
    "\n",
    "X_train_100 = X_100[:n_train]\n",
    "y_train_100 = y[:n_train]\n",
    "X_test_100 = X_100[n_train:]\n",
    "y_test_100 = y[n_train:]\n"
   ]
  },
  {
   "cell_type": "code",
   "execution_count": 244,
   "metadata": {},
   "outputs": [
    {
     "name": "stdout",
     "output_type": "stream",
     "text": [
      "[2.51232199 3.65782917 3.3418462  3.28624345 1.97709309 2.14233779\n",
      " 2.86385892 3.17422698 4.16965472 2.85958879]\n",
      "2.9985001110319915\n",
      "[3.17958762 3.44175927 1.60840865 3.8529953  1.73712953 2.28270273\n",
      " 2.77482085 3.06007211 3.18420149 2.85096509]\n",
      "2.797264264044249\n",
      "[4.52622959 3.66636608 1.3520706  5.4920844  2.24430428 2.73149155\n",
      " 3.2774566  4.54041004 3.47136792 2.58420273]\n",
      "3.3885983795599266\n",
      "[3.98233968 5.61762277 2.10962728 5.91489669 4.23000856 2.21782266\n",
      " 3.75081365 3.77206514 3.66988124 2.40303372]\n",
      "3.766811137916599\n",
      "[4.56913202 5.68778012 3.96042339 6.24242434 4.32009806 2.09108936\n",
      " 3.79369309 3.70411909 3.61301147 2.39625715]\n",
      "4.037802808484997\n"
     ]
    }
   ],
   "source": [
    "# import linear regression\n",
    "from sklearn.linear_model import LinearRegression\n",
    "from sklearn.model_selection import cross_val_score\n",
    "import matplotlib.pyplot as plt\n",
    "import math\n",
    "\n",
    "# X_train, X_test, y_train, y_test = train_test_split(X, y, test_size=0.35, \n",
    "#                                                     random_state=3)\n",
    "\n",
    "linear_regression_all = LinearRegression()\n",
    "linear_regression_week = LinearRegression()\n",
    "linear_regression_month = LinearRegression()\n",
    "linear_regression_100 = LinearRegression()\n",
    "linear_regression_date = LinearRegression()\n",
    "\n",
    "linear_regression_all.fit(X_train_all,y_train_all)\n",
    "# y_test.plot()\n",
    "y_predict_all = linear_regression_all.predict(X_test_all)\n",
    "mse_list = cross_val_score(linear_regression_all, X_test_all, y_test_all, cv=10, scoring='neg_mean_squared_error')\n",
    "mse_list_positive = -mse_list\n",
    "rmse_list = np.sqrt(mse_list_positive)\n",
    "print(rmse_list)\n",
    "print(rmse_list.mean())\n",
    "\n",
    "linear_regression_week.fit(X_train_week,y_train_week)\n",
    "# y_test.plot()\n",
    "y_predict_week = linear_regression_week.predict(X_test_week)\n",
    "mse_list = cross_val_score(linear_regression_week, X_test_week, y_test_week, cv=10, scoring='neg_mean_squared_error')\n",
    "mse_list_positive = -mse_list\n",
    "rmse_list = np.sqrt(mse_list_positive)\n",
    "print(rmse_list)\n",
    "print(rmse_list.mean())\n",
    "\n",
    "linear_regression_month.fit(X_train_month,y_train_month)\n",
    "# y_test.plot()\n",
    "y_predict_month = linear_regression_month.predict(X_test_month)\n",
    "mse_list = cross_val_score(linear_regression_month, X_test_month, y_test_month, cv=10, scoring='neg_mean_squared_error')\n",
    "mse_list_positive = -mse_list\n",
    "rmse_list = np.sqrt(mse_list_positive)\n",
    "print(rmse_list)\n",
    "print(rmse_list.mean())\n",
    "\n",
    "linear_regression_date.fit(X_train_date_only,y_train_date_only)\n",
    "# y_test.plot()\n",
    "y_predict_date = linear_regression_date.predict(X_test_date_only)\n",
    "mse_list = cross_val_score(linear_regression_date, X_test_date_only, y_test_all, cv=10, scoring='neg_mean_squared_error')\n",
    "mse_list_positive = -mse_list\n",
    "rmse_list = np.sqrt(mse_list_positive)\n",
    "print(rmse_list)\n",
    "print(rmse_list.mean())\n",
    "\n",
    "linear_regression_100.fit(X_train_100,y_train_100)\n",
    "# y_test.plot()\n",
    "y_predict_100 = linear_regression_100.predict(X_test_100)\n",
    "mse_list = cross_val_score(linear_regression_100, X_test_100, y_test_100, cv=10, scoring='neg_mean_squared_error')\n",
    "mse_list_positive = -mse_list\n",
    "rmse_list = np.sqrt(mse_list_positive)\n",
    "print(rmse_list)\n",
    "print(rmse_list.mean())"
   ]
  },
  {
   "cell_type": "code",
   "execution_count": 234,
   "metadata": {},
   "outputs": [
    {
     "data": {
      "text/plain": [
       "0      46.47\n",
       "1      46.46\n",
       "2      45.86\n",
       "3      45.86\n",
       "4      46.22\n",
       "       ...  \n",
       "571    53.88\n",
       "572    52.10\n",
       "573    49.76\n",
       "574    51.18\n",
       "575    51.40\n",
       "Name: close, Length: 576, dtype: float64"
      ]
     },
     "execution_count": 234,
     "metadata": {},
     "output_type": "execute_result"
    }
   ],
   "source": [
    "y_test_all=y_test_all.reset_index(drop=True)\n",
    "y_test_all\n"
   ]
  },
  {
   "cell_type": "code",
   "execution_count": 242,
   "metadata": {},
   "outputs": [
    {
     "data": {
      "image/png": "[encoded data removed]",
      "text/plain": [
       "<Figure size 432x288 with 1 Axes>"
      ]
     },
     "metadata": {
      "needs_background": "light"
     },
     "output_type": "display_data"
    }
   ],
   "source": [
    "plt.plot(y_test_all,label=\"Actual Price\")\n",
    "plt.plot(y_predict_all, label=\"prediction using all avgs\")\n",
    "plt.plot(y_predict_date, label=\"prediction using only date\")\n",
    "plt.plot(y_predict_100, label=\"prediction using only 100 day avgs\")\n",
    "plt.plot(y_predict_week, label=\"prediction using week avg\")\n",
    "plt.plot(y_predict_month, label=\"prediction using monthly avg\")\n",
    "leg = plt.legend()\n",
    "plt.show()"
   ]
  },
  {
   "cell_type": "code",
   "execution_count": null,
   "metadata": {},
   "outputs": [],
   "source": [
    "\n"
   ]
  },
  {
   "cell_type": "code",
   "execution_count": 236,
   "metadata": {},
   "outputs": [
    {
     "data": {
      "text/plain": [
       "[<matplotlib.lines.Line2D at 0x7fc818a732b0>]"
      ]
     },
     "execution_count": 236,
     "metadata": {},
     "output_type": "execute_result"
    },
    {
     "data": {
      "image/png": "[encoded data removed]",
      "text/plain": [
       "<Figure size 432x288 with 1 Axes>"
      ]
     },
     "metadata": {
      "needs_background": "light"
     },
     "output_type": "display_data"
    }
   ],
   "source": [
    "plt.plot(y_predict_date)"
   ]
  },
  {
   "cell_type": "code",
   "execution_count": 237,
   "metadata": {},
   "outputs": [
    {
     "data": {
      "text/plain": [
       "[<matplotlib.lines.Line2D at 0x7fc818a0dee0>]"
      ]
     },
     "execution_count": 237,
     "metadata": {},
     "output_type": "execute_result"
    },
    {
     "data": {
      "image/png": "[encoded data removed]",
      "text/plain": [
       "<Figure size 432x288 with 1 Axes>"
      ]
     },
     "metadata": {
      "needs_background": "light"
     },
     "output_type": "display_data"
    }
   ],
   "source": [
    "plt.plot(y_predict_100)"
   ]
  },
  {
   "cell_type": "code",
   "execution_count": 238,
   "metadata": {},
   "outputs": [
    {
     "data": {
      "text/plain": [
       "[<matplotlib.lines.Line2D at 0x7fc83a4c8b20>]"
      ]
     },
     "execution_count": 238,
     "metadata": {},
     "output_type": "execute_result"
    },
    {
     "data": {
      "image/png": "[encoded data removed]",
      "text/plain": [
       "<Figure size 432x288 with 1 Axes>"
      ]
     },
     "metadata": {
      "needs_background": "light"
     },
     "output_type": "display_data"
    }
   ],
   "source": [
    "plt.plot(y_predict_week)"
   ]
  },
  {
   "cell_type": "code",
   "execution_count": 239,
   "metadata": {},
   "outputs": [
    {
     "data": {
      "text/plain": [
       "[<matplotlib.lines.Line2D at 0x7fc82abed7c0>]"
      ]
     },
     "execution_count": 239,
     "metadata": {},
     "output_type": "execute_result"
    },
    {
     "data": {
      "image/png": "[encoded data removed]",
      "text/plain": [
       "<Figure size 432x288 with 1 Axes>"
      ]
     },
     "metadata": {
      "needs_background": "light"
     },
     "output_type": "display_data"
    }
   ],
   "source": [
    "plt.plot(y_predict_month)"
   ]
  },
  {
   "cell_type": "code",
   "execution_count": 240,
   "metadata": {},
   "outputs": [
    {
     "data": {
      "text/plain": [
       "[<matplotlib.lines.Line2D at 0x7fc83a4fe970>]"
      ]
     },
     "execution_count": 240,
     "metadata": {},
     "output_type": "execute_result"
    },
    {
     "data": {
      "image/png": "[encoded data removed]",
      "text/plain": [
       "<Figure size 432x288 with 1 Axes>"
      ]
     },
     "metadata": {
      "needs_background": "light"
     },
     "output_type": "display_data"
    }
   ],
   "source": [
    "plt.plot(y_predict_all)"
   ]
  },
  {
   "cell_type": "code",
   "execution_count": 241,
   "metadata": {},
   "outputs": [
    {
     "ename": "ValueError",
     "evalue": "Length mismatch: Expected axis has 511 elements, new values have 10 elements",
     "output_type": "error",
     "traceback": [
      "\u001b[0;31m---------------------------------------------------------------------------\u001b[0m",
      "\u001b[0;31mValueError\u001b[0m                                Traceback (most recent call last)",
      "\u001b[0;32m<ipython-input-241-776d5b877a8a>\u001b[0m in \u001b[0;36m<module>\u001b[0;34m\u001b[0m\n\u001b[1;32m      8\u001b[0m \u001b[0;34m\u001b[0m\u001b[0m\n\u001b[1;32m      9\u001b[0m \u001b[0mstock_df_encode\u001b[0m\u001b[0;34m.\u001b[0m\u001b[0mdrop\u001b[0m\u001b[0;34m(\u001b[0m\u001b[0;34m'Name'\u001b[0m\u001b[0;34m,\u001b[0m \u001b[0maxis\u001b[0m\u001b[0;34m=\u001b[0m\u001b[0;36m1\u001b[0m\u001b[0;34m,\u001b[0m \u001b[0minplace\u001b[0m\u001b[0;34m=\u001b[0m\u001b[0;32mTrue\u001b[0m\u001b[0;34m)\u001b[0m\u001b[0;34m\u001b[0m\u001b[0;34m\u001b[0m\u001b[0m\n\u001b[0;32m---> 10\u001b[0;31m \u001b[0mstock_df_encode\u001b[0m\u001b[0;34m.\u001b[0m\u001b[0mcolumns\u001b[0m \u001b[0;34m=\u001b[0m \u001b[0;34m[\u001b[0m\u001b[0;34m'AAL'\u001b[0m\u001b[0;34m,\u001b[0m \u001b[0;34m'AAPL'\u001b[0m\u001b[0;34m,\u001b[0m \u001b[0;34m'AAP'\u001b[0m\u001b[0;34m,\u001b[0m \u001b[0;34m'ABBV'\u001b[0m\u001b[0;34m,\u001b[0m \u001b[0;34m'ABC'\u001b[0m\u001b[0;34m,\u001b[0m \u001b[0;34m'ABT'\u001b[0m\u001b[0;34m,\u001b[0m \u001b[0;34m'ACN'\u001b[0m\u001b[0;34m,\u001b[0m \u001b[0;34m'ADBE'\u001b[0m\u001b[0;34m,\u001b[0m \u001b[0;34m'ADI'\u001b[0m\u001b[0;34m,\u001b[0m \u001b[0;34m'ADM'\u001b[0m\u001b[0;34m]\u001b[0m\u001b[0;34m\u001b[0m\u001b[0;34m\u001b[0m\u001b[0m\n\u001b[0m",
      "\u001b[0;32m~/opt/anaconda3/lib/python3.8/site-packages/pandas/core/generic.py\u001b[0m in \u001b[0;36m__setattr__\u001b[0;34m(self, name, value)\u001b[0m\n\u001b[1;32m   5476\u001b[0m         \u001b[0;32mtry\u001b[0m\u001b[0;34m:\u001b[0m\u001b[0;34m\u001b[0m\u001b[0;34m\u001b[0m\u001b[0m\n\u001b[1;32m   5477\u001b[0m             \u001b[0mobject\u001b[0m\u001b[0;34m.\u001b[0m\u001b[0m__getattribute__\u001b[0m\u001b[0;34m(\u001b[0m\u001b[0mself\u001b[0m\u001b[0;34m,\u001b[0m \u001b[0mname\u001b[0m\u001b[0;34m)\u001b[0m\u001b[0;34m\u001b[0m\u001b[0;34m\u001b[0m\u001b[0m\n\u001b[0;32m-> 5478\u001b[0;31m             \u001b[0;32mreturn\u001b[0m \u001b[0mobject\u001b[0m\u001b[0;34m.\u001b[0m\u001b[0m__setattr__\u001b[0m\u001b[0;34m(\u001b[0m\u001b[0mself\u001b[0m\u001b[0;34m,\u001b[0m \u001b[0mname\u001b[0m\u001b[0;34m,\u001b[0m \u001b[0mvalue\u001b[0m\u001b[0;34m)\u001b[0m\u001b[0;34m\u001b[0m\u001b[0;34m\u001b[0m\u001b[0m\n\u001b[0m\u001b[1;32m   5479\u001b[0m         \u001b[0;32mexcept\u001b[0m \u001b[0mAttributeError\u001b[0m\u001b[0;34m:\u001b[0m\u001b[0;34m\u001b[0m\u001b[0;34m\u001b[0m\u001b[0m\n\u001b[1;32m   5480\u001b[0m             \u001b[0;32mpass\u001b[0m\u001b[0;34m\u001b[0m\u001b[0;34m\u001b[0m\u001b[0m\n",
      "\u001b[0;32mpandas/_libs/properties.pyx\u001b[0m in \u001b[0;36mpandas._libs.properties.AxisProperty.__set__\u001b[0;34m()\u001b[0m\n",
      "\u001b[0;32m~/opt/anaconda3/lib/python3.8/site-packages/pandas/core/generic.py\u001b[0m in \u001b[0;36m_set_axis\u001b[0;34m(self, axis, labels)\u001b[0m\n\u001b[1;32m    668\u001b[0m     \u001b[0;32mdef\u001b[0m \u001b[0m_set_axis\u001b[0m\u001b[0;34m(\u001b[0m\u001b[0mself\u001b[0m\u001b[0;34m,\u001b[0m \u001b[0maxis\u001b[0m\u001b[0;34m:\u001b[0m \u001b[0mint\u001b[0m\u001b[0;34m,\u001b[0m \u001b[0mlabels\u001b[0m\u001b[0;34m:\u001b[0m \u001b[0mIndex\u001b[0m\u001b[0;34m)\u001b[0m \u001b[0;34m->\u001b[0m \u001b[0;32mNone\u001b[0m\u001b[0;34m:\u001b[0m\u001b[0;34m\u001b[0m\u001b[0;34m\u001b[0m\u001b[0m\n\u001b[1;32m    669\u001b[0m         \u001b[0mlabels\u001b[0m \u001b[0;34m=\u001b[0m \u001b[0mensure_index\u001b[0m\u001b[0;34m(\u001b[0m\u001b[0mlabels\u001b[0m\u001b[0;34m)\u001b[0m\u001b[0;34m\u001b[0m\u001b[0;34m\u001b[0m\u001b[0m\n\u001b[0;32m--> 670\u001b[0;31m         \u001b[0mself\u001b[0m\u001b[0;34m.\u001b[0m\u001b[0m_mgr\u001b[0m\u001b[0;34m.\u001b[0m\u001b[0mset_axis\u001b[0m\u001b[0;34m(\u001b[0m\u001b[0maxis\u001b[0m\u001b[0;34m,\u001b[0m \u001b[0mlabels\u001b[0m\u001b[0;34m)\u001b[0m\u001b[0;34m\u001b[0m\u001b[0;34m\u001b[0m\u001b[0m\n\u001b[0m\u001b[1;32m    671\u001b[0m         \u001b[0mself\u001b[0m\u001b[0;34m.\u001b[0m\u001b[0m_clear_item_cache\u001b[0m\u001b[0;34m(\u001b[0m\u001b[0;34m)\u001b[0m\u001b[0;34m\u001b[0m\u001b[0;34m\u001b[0m\u001b[0m\n\u001b[1;32m    672\u001b[0m \u001b[0;34m\u001b[0m\u001b[0m\n",
      "\u001b[0;32m~/opt/anaconda3/lib/python3.8/site-packages/pandas/core/internals/managers.py\u001b[0m in \u001b[0;36mset_axis\u001b[0;34m(self, axis, new_labels)\u001b[0m\n\u001b[1;32m    218\u001b[0m \u001b[0;34m\u001b[0m\u001b[0m\n\u001b[1;32m    219\u001b[0m         \u001b[0;32mif\u001b[0m \u001b[0mnew_len\u001b[0m \u001b[0;34m!=\u001b[0m \u001b[0mold_len\u001b[0m\u001b[0;34m:\u001b[0m\u001b[0;34m\u001b[0m\u001b[0;34m\u001b[0m\u001b[0m\n\u001b[0;32m--> 220\u001b[0;31m             raise ValueError(\n\u001b[0m\u001b[1;32m    221\u001b[0m                 \u001b[0;34mf\"Length mismatch: Expected axis has {old_len} elements, new \"\u001b[0m\u001b[0;34m\u001b[0m\u001b[0;34m\u001b[0m\u001b[0m\n\u001b[1;32m    222\u001b[0m                 \u001b[0;34mf\"values have {new_len} elements\"\u001b[0m\u001b[0;34m\u001b[0m\u001b[0;34m\u001b[0m\u001b[0m\n",
      "\u001b[0;31mValueError\u001b[0m: Length mismatch: Expected axis has 511 elements, new values have 10 elements"
     ]
    }
   ],
   "source": [
    "from sklearn.preprocessing import OneHotEncoder\n",
    "\n",
    "encoder = OneHotEncoder(handle_unknown='ignore')\n",
    "\n",
    "encoder_df = pd.DataFrame(encoder.fit_transform(stock_df[['Name']]).toarray())\n",
    "\n",
    "stock_df_encode = stock_df.join(encoder_df)\n",
    "\n",
    "stock_df_encode.drop('Name', axis=1, inplace=True)\n",
    "stock_df_encode.columns = ['AAL', 'AAPL', 'AAP', 'ABBV', 'ABC', 'ABT', 'ACN', 'ADBE', 'ADI', 'ADM']\n"
   ]
  },
  {
   "cell_type": "code",
   "execution_count": null,
   "metadata": {},
   "outputs": [],
   "source": [
    "old_val = stock_df[\"close\"]\n",
    "\n",
    "series_shifted = old_val['A'].shift()\n",
    "series_shifted"
   ]
  },
  {
   "cell_type": "code",
   "execution_count": null,
   "metadata": {},
   "outputs": [],
   "source": []
  },
  {
   "cell_type": "code",
   "execution_count": null,
   "metadata": {},
   "outputs": [],
   "source": []
  },
  {
   "cell_type": "code",
   "execution_count": null,
   "metadata": {},
   "outputs": [],
   "source": []
  },
  {
   "cell_type": "code",
   "execution_count": null,
   "metadata": {},
   "outputs": [],
   "source": []
  },
  {
   "cell_type": "code",
   "execution_count": null,
   "metadata": {},
   "outputs": [],
   "source": []
  },
  {
   "cell_type": "code",
   "execution_count": null,
   "metadata": {},
   "outputs": [],
   "source": []
  },
  {
   "cell_type": "code",
   "execution_count": null,
   "metadata": {},
   "outputs": [],
   "source": []
  },
  {
   "cell_type": "code",
   "execution_count": null,
   "metadata": {},
   "outputs": [],
   "source": []
  }
 ],
 "metadata": {
  "interpreter": {
   "hash": "1d010d581d7a5465429bbdba173966b3b36e0940702d2f9722190fd7bcbf7b8a"
  },
  "kernelspec": {
   "display_name": "Python 3.8.8 ('base')",
   "language": "python",
   "name": "python3"
  },
  "language_info": {
   "codemirror_mode": {
    "name": "ipython",
    "version": 3
   },
   "file_extension": ".py",
   "mimetype": "text/x-python",
   "name": "python",
   "nbconvert_exporter": "python",
   "pygments_lexer": "ipython3",
   "version": "3.8.8"
  },
  "orig_nbformat": 4,
  "vscode": {
   "interpreter": {
    "hash": "7a929b37bf42b316222b16b0790a451ad8e39be40fd2e075c82b56a3134e0883"
   }
  }
 },
 "nbformat": 4,
 "nbformat_minor": 2
}
