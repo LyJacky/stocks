{
 "cells": [
  {
   "cell_type": "markdown",
   "metadata": {},
   "source": [
    "## Importing needed required libraries, also using Tensorflow which is not included in conda you will need to pip install it prior to running this notebook\n",
    "### creating df from github repositiory we have created"
   ]
  },
  {
   "cell_type": "code",
   "execution_count": 146,
   "metadata": {},
   "outputs": [],
   "source": [
    "import pandas as pd\n",
    "import numpy as np\n",
    "import pandas as pd\n",
    "import tensorflow as tf\n",
    "import ssl\n",
    "from sklearn.preprocessing import MinMaxScaler\n",
    "import matplotlib.pyplot as plt\n",
    "import math\n",
    "from sklearn.metrics import mean_squared_error\n",
    "\n",
    "\n",
    "\n",
    "ssl._create_default_https_context = ssl._create_unverified_context\n",
    "df = pd.read_csv(\"https://raw.githubusercontent.com/LyJacky/stocks/4802f4e0f139ee0568afbad309086d90c78a53b7/all_stocks_5yr.csv\")\n"
   ]
  },
  {
   "cell_type": "markdown",
   "metadata": {},
   "source": [
    "### In the dataset each stock has 1259 days of stocks which is why we have picked the first 1259 days.\n",
    "\n"
   ]
  },
  {
   "cell_type": "code",
   "execution_count": 147,
   "metadata": {},
   "outputs": [
    {
     "data": {
      "text/plain": [
       "0       14.75\n",
       "1       14.46\n",
       "2       14.27\n",
       "3       14.66\n",
       "4       13.99\n",
       "        ...  \n",
       "1254    53.88\n",
       "1255    52.10\n",
       "1256    49.76\n",
       "1257    51.18\n",
       "1258    51.40\n",
       "Name: close, Length: 1259, dtype: float64"
      ]
     },
     "execution_count": 147,
     "metadata": {},
     "output_type": "execute_result"
    }
   ],
   "source": [
    "df1 = df.reset_index()['close']\n",
    "# only for AAL stock\n",
    "df1 = df1[0:1259]\n",
    "df1"
   ]
  },
  {
   "cell_type": "markdown",
   "metadata": {},
   "source": [
    "### Plotting the graph of the closing price vs the date(implied)\n",
    "### Only using the closing price to predict the price, the x axis represents the days"
   ]
  },
  {
   "cell_type": "code",
   "execution_count": 148,
   "metadata": {},
   "outputs": [
    {
     "data": {
      "text/plain": [
       "[<matplotlib.lines.Line2D at 0x1756f9b70>]"
      ]
     },
     "execution_count": 148,
     "metadata": {},
     "output_type": "execute_result"
    },
    {
     "data": {
      "image/png": "[encoded data removed]",
      "text/plain": [
       "<Figure size 432x288 with 1 Axes>"
      ]
     },
     "metadata": {
      "needs_background": "light"
     },
     "output_type": "display_data"
    }
   ],
   "source": [
    "plt.plot(df1)"
   ]
  },
  {
   "cell_type": "markdown",
   "metadata": {},
   "source": [
    "## Normalizing the data using MinMaxScaler to values between 0 and 1"
   ]
  },
  {
   "cell_type": "code",
   "execution_count": 149,
   "metadata": {},
   "outputs": [
    {
     "data": {
      "text/plain": [
       "array([[0.03806381],\n",
       "       [0.03168317],\n",
       "       [0.02750275],\n",
       "       ...,\n",
       "       [0.80836084],\n",
       "       [0.83960396],\n",
       "       [0.84444444]])"
      ]
     },
     "execution_count": 149,
     "metadata": {},
     "output_type": "execute_result"
    }
   ],
   "source": [
    "# scales the close values between the values 0 and 1\n",
    "scaler=MinMaxScaler(feature_range=(0,1))\n",
    "df1=scaler.fit_transform(np.array(df1).reshape(-1,1))\n",
    "df1"
   ]
  },
  {
   "cell_type": "markdown",
   "metadata": {},
   "source": [
    "## Making training and testing data, since we are dealing with stocks we must split them in a sequential way having the training data have data all before one of the testing data. \n",
    "### The data will basically be partitioned into the first .65% being training and the other testing "
   ]
  },
  {
   "cell_type": "code",
   "execution_count": 150,
   "metadata": {},
   "outputs": [],
   "source": [
    "# training size is the number of data we are going to use for the traning data\n",
    "training_size=int(len(df1)*0.65)\n",
    "# test_size is just the complement of training size.\n",
    "test_size=len(df1)-training_size\n",
    "# makes 2 new lists train_data and test_data which are both subsets of the df1\n",
    "# train_data is going to be df1 from 0 to training size, and tet_data will be from training size to the rest of the data\n",
    "train_data,test_data=df1[0:training_size,:],df1[training_size:len(df1),:1]"
   ]
  },
  {
   "cell_type": "markdown",
   "metadata": {},
   "source": [
    "## Since we are going to deal with LSTM's the input must be a sequence. Hence all of our X_train and X_test will be a sequence of the price 100 days prior the current day\n",
    "### The y train and test will jus tbe the stock of the day of"
   ]
  },
  {
   "cell_type": "code",
   "execution_count": 153,
   "metadata": {},
   "outputs": [],
   "source": [
    "time_step = 100\n",
    "X_train, y_train = [], []\n",
    "for i in range(len(train_data)-time_step-1):\n",
    "    a = train_data[i:(i+time_step), 0]   \n",
    "    X_train.append(a)\n",
    "    y_train.append(train_data[i + time_step, 0])\n",
    "\n",
    "\n",
    "X_test, ytest = [], []\n",
    "for i in range(len(test_data)-time_step-1):\n",
    "    a = test_data[i:(i+time_step), 0]   \n",
    "    X_test.append(a)\n",
    "    ytest.append(test_data[i + time_step, 0])"
   ]
  },
  {
   "cell_type": "markdown",
   "metadata": {},
   "source": [
    "### Converting all of the lists intp np arrays in order to reshape the list in a later stage so that the keras libary has the proper inputs for the necessary functions"
   ]
  },
  {
   "cell_type": "code",
   "execution_count": 154,
   "metadata": {},
   "outputs": [],
   "source": [
    "X_train = np.array(X_train)\n",
    "y_train = np.array(y_train)\n",
    "X_test = np.array(X_test)\n",
    "ytest = np.array(ytest)"
   ]
  },
  {
   "cell_type": "code",
   "execution_count": 155,
   "metadata": {},
   "outputs": [
    {
     "data": {
      "text/plain": [
       "array([[0.03806381, 0.03168317, 0.02750275, ..., 0.07480748, 0.08316832,\n",
       "        0.0750275 ],\n",
       "       [0.03168317, 0.02750275, 0.03608361, ..., 0.08316832, 0.0750275 ,\n",
       "        0.08206821],\n",
       "       [0.02750275, 0.03608361, 0.02134213, ..., 0.0750275 , 0.08206821,\n",
       "        0.0840484 ],\n",
       "       ...,\n",
       "       [0.67392739, 0.68360836, 0.63960396, ..., 0.47678768, 0.47106711,\n",
       "        0.47436744],\n",
       "       [0.68360836, 0.63960396, 0.63256326, ..., 0.47106711, 0.47436744,\n",
       "        0.44422442],\n",
       "       [0.63960396, 0.63256326, 0.65071507, ..., 0.47436744, 0.44422442,\n",
       "        0.43531353]])"
      ]
     },
     "execution_count": 155,
     "metadata": {},
     "output_type": "execute_result"
    }
   ],
   "source": [
    "X_train"
   ]
  },
  {
   "cell_type": "markdown",
   "metadata": {},
   "source": [
    "## Reshaping the list thanks to np arrays where the 3rd dim is the number of features"
   ]
  },
  {
   "cell_type": "code",
   "execution_count": 156,
   "metadata": {},
   "outputs": [],
   "source": [
    "# last one says one feature, reshapes features so its a 3 dim and the last dim is the number of features\n",
    "X_train = X_train.reshape(X_train.shape[0],X_train.shape[1] , 1)\n",
    "X_test = X_test.reshape(X_test.shape[0],X_test.shape[1] , 1)"
   ]
  },
  {
   "cell_type": "markdown",
   "metadata": {},
   "source": [
    "## Importing proper libraries for LSTM and neural networks"
   ]
  },
  {
   "cell_type": "code",
   "execution_count": 157,
   "metadata": {},
   "outputs": [],
   "source": [
    "from tensorflow.keras.models import Sequential\n",
    "from tensorflow.keras.layers import Dense\n",
    "from tensorflow.keras.layers import LSTM"
   ]
  },
  {
   "cell_type": "markdown",
   "metadata": {},
   "source": [
    "### Creating LSTM Model with one input layer, another 3 layers of 50 LSTM nodes (whenever we have an LSTM layer we must do return sequence since LSTM require sequences), hence for the last layer we must put return sequence false which is the default\n",
    "### Training the LSTM Model with 100 epochs which represents the 100 days"
   ]
  },
  {
   "cell_type": "code",
   "execution_count": 158,
   "metadata": {},
   "outputs": [
    {
     "name": "stdout",
     "output_type": "stream",
     "text": [
      "Epoch 1/100\n",
      "12/12 [==============================] - 8s 196ms/step - loss: 0.0795 - val_loss: 0.0258\n",
      "Epoch 2/100\n",
      "12/12 [==============================] - 1s 92ms/step - loss: 0.0132 - val_loss: 0.0040\n",
      "Epoch 3/100\n",
      "12/12 [==============================] - 1s 93ms/step - loss: 0.0070 - val_loss: 0.0102\n",
      "Epoch 4/100\n",
      "12/12 [==============================] - 1s 93ms/step - loss: 0.0049 - val_loss: 0.0066\n",
      "Epoch 5/100\n",
      "12/12 [==============================] - 1s 93ms/step - loss: 0.0038 - val_loss: 0.0036\n",
      "Epoch 6/100\n",
      "12/12 [==============================] - 1s 92ms/step - loss: 0.0032 - val_loss: 0.0034\n",
      "Epoch 7/100\n",
      "12/12 [==============================] - 1s 92ms/step - loss: 0.0032 - val_loss: 0.0033\n",
      "Epoch 8/100\n",
      "12/12 [==============================] - 1s 94ms/step - loss: 0.0031 - val_loss: 0.0032\n",
      "Epoch 9/100\n",
      "12/12 [==============================] - 1s 93ms/step - loss: 0.0031 - val_loss: 0.0029\n",
      "Epoch 10/100\n",
      "12/12 [==============================] - 1s 93ms/step - loss: 0.0031 - val_loss: 0.0033\n",
      "Epoch 11/100\n",
      "12/12 [==============================] - 1s 93ms/step - loss: 0.0030 - val_loss: 0.0040\n",
      "Epoch 12/100\n",
      "12/12 [==============================] - 1s 92ms/step - loss: 0.0030 - val_loss: 0.0031\n",
      "Epoch 13/100\n",
      "12/12 [==============================] - 1s 93ms/step - loss: 0.0029 - val_loss: 0.0053\n",
      "Epoch 14/100\n",
      "12/12 [==============================] - 1s 92ms/step - loss: 0.0030 - val_loss: 0.0045\n",
      "Epoch 15/100\n",
      "12/12 [==============================] - 1s 94ms/step - loss: 0.0030 - val_loss: 0.0033\n",
      "Epoch 16/100\n",
      "12/12 [==============================] - 1s 95ms/step - loss: 0.0028 - val_loss: 0.0025\n",
      "Epoch 17/100\n",
      "12/12 [==============================] - 1s 97ms/step - loss: 0.0029 - val_loss: 0.0025\n",
      "Epoch 18/100\n",
      "12/12 [==============================] - 1s 96ms/step - loss: 0.0029 - val_loss: 0.0029\n",
      "Epoch 19/100\n",
      "12/12 [==============================] - 1s 93ms/step - loss: 0.0027 - val_loss: 0.0029\n",
      "Epoch 20/100\n",
      "12/12 [==============================] - 1s 91ms/step - loss: 0.0026 - val_loss: 0.0024\n",
      "Epoch 21/100\n",
      "12/12 [==============================] - 1s 96ms/step - loss: 0.0029 - val_loss: 0.0023\n",
      "Epoch 22/100\n",
      "12/12 [==============================] - 1s 92ms/step - loss: 0.0026 - val_loss: 0.0025\n",
      "Epoch 23/100\n",
      "12/12 [==============================] - 1s 96ms/step - loss: 0.0025 - val_loss: 0.0023\n",
      "Epoch 24/100\n",
      "12/12 [==============================] - 1s 96ms/step - loss: 0.0027 - val_loss: 0.0023\n",
      "Epoch 25/100\n",
      "12/12 [==============================] - 1s 99ms/step - loss: 0.0025 - val_loss: 0.0023\n",
      "Epoch 26/100\n",
      "12/12 [==============================] - 1s 100ms/step - loss: 0.0024 - val_loss: 0.0032\n",
      "Epoch 27/100\n",
      "12/12 [==============================] - 1s 99ms/step - loss: 0.0024 - val_loss: 0.0022\n",
      "Epoch 28/100\n",
      "12/12 [==============================] - 1s 101ms/step - loss: 0.0024 - val_loss: 0.0020\n",
      "Epoch 29/100\n",
      "12/12 [==============================] - 1s 109ms/step - loss: 0.0026 - val_loss: 0.0051\n",
      "Epoch 30/100\n",
      "12/12 [==============================] - 1s 108ms/step - loss: 0.0024 - val_loss: 0.0027\n",
      "Epoch 31/100\n",
      "12/12 [==============================] - 1s 114ms/step - loss: 0.0023 - val_loss: 0.0022\n",
      "Epoch 32/100\n",
      "12/12 [==============================] - 3s 235ms/step - loss: 0.0024 - val_loss: 0.0020\n",
      "Epoch 33/100\n",
      "12/12 [==============================] - 2s 130ms/step - loss: 0.0024 - val_loss: 0.0021\n",
      "Epoch 34/100\n",
      "12/12 [==============================] - 1s 101ms/step - loss: 0.0022 - val_loss: 0.0022\n",
      "Epoch 35/100\n",
      "12/12 [==============================] - 1s 98ms/step - loss: 0.0023 - val_loss: 0.0029\n",
      "Epoch 36/100\n",
      "12/12 [==============================] - 1s 103ms/step - loss: 0.0024 - val_loss: 0.0020\n",
      "Epoch 37/100\n",
      "12/12 [==============================] - 1s 98ms/step - loss: 0.0026 - val_loss: 0.0023\n",
      "Epoch 38/100\n",
      "12/12 [==============================] - 1s 93ms/step - loss: 0.0023 - val_loss: 0.0024\n",
      "Epoch 39/100\n",
      "12/12 [==============================] - 1s 100ms/step - loss: 0.0022 - val_loss: 0.0023\n",
      "Epoch 40/100\n",
      "12/12 [==============================] - 1s 99ms/step - loss: 0.0022 - val_loss: 0.0021\n",
      "Epoch 41/100\n",
      "12/12 [==============================] - 1s 100ms/step - loss: 0.0022 - val_loss: 0.0017\n",
      "Epoch 42/100\n",
      "12/12 [==============================] - 1s 97ms/step - loss: 0.0021 - val_loss: 0.0017\n",
      "Epoch 43/100\n",
      "12/12 [==============================] - 1s 95ms/step - loss: 0.0022 - val_loss: 0.0021\n",
      "Epoch 44/100\n",
      "12/12 [==============================] - 1s 102ms/step - loss: 0.0020 - val_loss: 0.0017\n",
      "Epoch 45/100\n",
      "12/12 [==============================] - 1s 105ms/step - loss: 0.0021 - val_loss: 0.0020\n",
      "Epoch 46/100\n",
      "12/12 [==============================] - 1s 102ms/step - loss: 0.0020 - val_loss: 0.0016\n",
      "Epoch 47/100\n",
      "12/12 [==============================] - 1s 95ms/step - loss: 0.0020 - val_loss: 0.0025\n",
      "Epoch 48/100\n",
      "12/12 [==============================] - 1s 94ms/step - loss: 0.0020 - val_loss: 0.0020\n",
      "Epoch 49/100\n",
      "12/12 [==============================] - 1s 96ms/step - loss: 0.0020 - val_loss: 0.0016\n",
      "Epoch 50/100\n",
      "12/12 [==============================] - 1s 105ms/step - loss: 0.0020 - val_loss: 0.0032\n",
      "Epoch 51/100\n",
      "12/12 [==============================] - 1s 118ms/step - loss: 0.0023 - val_loss: 0.0015\n",
      "Epoch 52/100\n",
      "12/12 [==============================] - 1s 127ms/step - loss: 0.0021 - val_loss: 0.0027\n",
      "Epoch 53/100\n",
      "12/12 [==============================] - 1s 116ms/step - loss: 0.0019 - val_loss: 0.0015\n",
      "Epoch 54/100\n",
      "12/12 [==============================] - 1s 117ms/step - loss: 0.0020 - val_loss: 0.0043\n",
      "Epoch 55/100\n",
      "12/12 [==============================] - 1s 107ms/step - loss: 0.0025 - val_loss: 0.0014\n",
      "Epoch 56/100\n",
      "12/12 [==============================] - 1s 113ms/step - loss: 0.0020 - val_loss: 0.0014\n",
      "Epoch 57/100\n",
      "12/12 [==============================] - 1s 108ms/step - loss: 0.0018 - val_loss: 0.0029\n",
      "Epoch 58/100\n",
      "12/12 [==============================] - 2s 135ms/step - loss: 0.0018 - val_loss: 0.0017\n",
      "Epoch 59/100\n",
      "12/12 [==============================] - 2s 136ms/step - loss: 0.0020 - val_loss: 0.0035\n",
      "Epoch 60/100\n",
      "12/12 [==============================] - 1s 108ms/step - loss: 0.0019 - val_loss: 0.0013\n",
      "Epoch 61/100\n",
      "12/12 [==============================] - 1s 113ms/step - loss: 0.0017 - val_loss: 0.0015\n",
      "Epoch 62/100\n",
      "12/12 [==============================] - 1s 100ms/step - loss: 0.0017 - val_loss: 0.0020\n",
      "Epoch 63/100\n",
      "12/12 [==============================] - 1s 103ms/step - loss: 0.0017 - val_loss: 0.0012\n",
      "Epoch 64/100\n",
      "12/12 [==============================] - 1s 103ms/step - loss: 0.0016 - val_loss: 0.0016\n",
      "Epoch 65/100\n",
      "12/12 [==============================] - 1s 103ms/step - loss: 0.0017 - val_loss: 0.0014\n",
      "Epoch 66/100\n",
      "12/12 [==============================] - 1s 103ms/step - loss: 0.0016 - val_loss: 0.0013\n",
      "Epoch 67/100\n",
      "12/12 [==============================] - 1s 100ms/step - loss: 0.0015 - val_loss: 0.0018\n",
      "Epoch 68/100\n",
      "12/12 [==============================] - 1s 104ms/step - loss: 0.0016 - val_loss: 0.0013\n",
      "Epoch 69/100\n",
      "12/12 [==============================] - 2s 133ms/step - loss: 0.0018 - val_loss: 0.0011\n",
      "Epoch 70/100\n",
      "12/12 [==============================] - 1s 99ms/step - loss: 0.0017 - val_loss: 0.0021\n",
      "Epoch 71/100\n",
      "12/12 [==============================] - 1s 94ms/step - loss: 0.0015 - val_loss: 0.0011\n",
      "Epoch 72/100\n",
      "12/12 [==============================] - 1s 95ms/step - loss: 0.0015 - val_loss: 0.0013\n",
      "Epoch 73/100\n",
      "12/12 [==============================] - 1s 104ms/step - loss: 0.0014 - val_loss: 0.0011\n",
      "Epoch 74/100\n",
      "12/12 [==============================] - 1s 121ms/step - loss: 0.0013 - val_loss: 0.0017\n",
      "Epoch 75/100\n",
      "12/12 [==============================] - 1s 122ms/step - loss: 0.0016 - val_loss: 0.0011\n",
      "Epoch 76/100\n",
      "12/12 [==============================] - 2s 167ms/step - loss: 0.0014 - val_loss: 0.0013\n",
      "Epoch 77/100\n",
      "12/12 [==============================] - 2s 168ms/step - loss: 0.0012 - val_loss: 9.6431e-04\n",
      "Epoch 78/100\n",
      "12/12 [==============================] - 1s 118ms/step - loss: 0.0012 - val_loss: 0.0013\n",
      "Epoch 79/100\n",
      "12/12 [==============================] - 1s 111ms/step - loss: 0.0012 - val_loss: 8.3048e-04\n",
      "Epoch 80/100\n",
      "12/12 [==============================] - 1s 110ms/step - loss: 0.0011 - val_loss: 8.3813e-04\n",
      "Epoch 81/100\n",
      "12/12 [==============================] - 1s 103ms/step - loss: 0.0011 - val_loss: 8.1165e-04\n",
      "Epoch 82/100\n",
      "12/12 [==============================] - 1s 111ms/step - loss: 0.0010 - val_loss: 8.8987e-04\n",
      "Epoch 83/100\n",
      "12/12 [==============================] - 1s 104ms/step - loss: 9.6574e-04 - val_loss: 0.0011\n",
      "Epoch 84/100\n",
      "12/12 [==============================] - 1s 106ms/step - loss: 0.0011 - val_loss: 0.0013\n",
      "Epoch 85/100\n",
      "12/12 [==============================] - 1s 105ms/step - loss: 0.0012 - val_loss: 0.0011\n",
      "Epoch 86/100\n",
      "12/12 [==============================] - 1s 114ms/step - loss: 9.9027e-04 - val_loss: 8.1034e-04\n",
      "Epoch 87/100\n",
      "12/12 [==============================] - 1s 110ms/step - loss: 9.1673e-04 - val_loss: 8.2251e-04\n",
      "Epoch 88/100\n",
      "12/12 [==============================] - 1s 105ms/step - loss: 8.9009e-04 - val_loss: 8.9325e-04\n",
      "Epoch 89/100\n",
      "12/12 [==============================] - 1s 99ms/step - loss: 8.8333e-04 - val_loss: 7.6776e-04\n",
      "Epoch 90/100\n",
      "12/12 [==============================] - 1s 101ms/step - loss: 0.0012 - val_loss: 7.6825e-04\n",
      "Epoch 91/100\n",
      "12/12 [==============================] - 1s 110ms/step - loss: 0.0010 - val_loss: 9.4348e-04\n",
      "Epoch 92/100\n",
      "12/12 [==============================] - 1s 102ms/step - loss: 9.1119e-04 - val_loss: 8.6918e-04\n",
      "Epoch 93/100\n",
      "12/12 [==============================] - 1s 97ms/step - loss: 8.6015e-04 - val_loss: 0.0015\n",
      "Epoch 94/100\n",
      "12/12 [==============================] - 1s 109ms/step - loss: 8.3565e-04 - val_loss: 7.3763e-04\n",
      "Epoch 95/100\n",
      "12/12 [==============================] - 1s 105ms/step - loss: 8.7284e-04 - val_loss: 0.0022\n",
      "Epoch 96/100\n",
      "12/12 [==============================] - 1s 105ms/step - loss: 0.0013 - val_loss: 0.0015\n",
      "Epoch 97/100\n",
      "12/12 [==============================] - 1s 111ms/step - loss: 9.7771e-04 - val_loss: 7.2170e-04\n",
      "Epoch 98/100\n",
      "12/12 [==============================] - 1s 103ms/step - loss: 8.1745e-04 - val_loss: 6.4269e-04\n",
      "Epoch 99/100\n",
      "12/12 [==============================] - 1s 102ms/step - loss: 9.2406e-04 - val_loss: 6.7054e-04\n",
      "Epoch 100/100\n",
      "12/12 [==============================] - 1s 102ms/step - loss: 7.8200e-04 - val_loss: 9.4835e-04\n"
     ]
    },
    {
     "data": {
      "text/plain": [
       "<keras.callbacks.History at 0x175bc6110>"
      ]
     },
     "execution_count": 158,
     "metadata": {},
     "output_type": "execute_result"
    }
   ],
   "source": [
    "# Building the LSTM model using keras\n",
    "# input node is a sequence since LSTM accept sequences\n",
    "model=Sequential()\n",
    "# goes to a layer of 50 LSTM nodes which return a sequence\n",
    "model.add(LSTM(50,return_sequences=True,input_shape=(100,1)))\n",
    "# goes to another layer of 50 LSTM nodes which return a sequence\n",
    "model.add(LSTM(50,return_sequences=True))\n",
    "# goes to the last layer of 50 LSTM node, and does not return a sequence since the next layer will be one node\n",
    "model.add(LSTM(50))\n",
    "model.add(Dense(1))\n",
    "model.compile(loss='mean_squared_error',optimizer='adam')\n",
    "model.fit(X_train,y_train,validation_data=(X_test,ytest),epochs=100,batch_size=64,verbose=1)\n"
   ]
  },
  {
   "cell_type": "markdown",
   "metadata": {},
   "source": [
    "### Predicting based on the trained model"
   ]
  },
  {
   "cell_type": "code",
   "execution_count": 160,
   "metadata": {},
   "outputs": [
    {
     "name": "stdout",
     "output_type": "stream",
     "text": [
      "23/23 [==============================] - 1s 20ms/step\n",
      "11/11 [==============================] - 0s 21ms/step\n"
     ]
    }
   ],
   "source": [
    "train_predict=model.predict(X_train)\n",
    "test_predict=model.predict(X_test)"
   ]
  },
  {
   "cell_type": "code",
   "execution_count": 161,
   "metadata": {},
   "outputs": [
    {
     "data": {
      "text/plain": [
       "array([[0.50193566],\n",
       "       [0.5064215 ],\n",
       "       [0.5164623 ],\n",
       "       [0.5266013 ],\n",
       "       [0.534825  ],\n",
       "       [0.54112786],\n",
       "       [0.5422154 ],\n",
       "       [0.5464866 ],\n",
       "       [0.54811996],\n",
       "       [0.54315627],\n",
       "       [0.5465322 ],\n",
       "       [0.55128074],\n",
       "       [0.5548923 ],\n",
       "       [0.5613075 ],\n",
       "       [0.5752149 ],\n",
       "       [0.58933645],\n",
       "       [0.5949247 ],\n",
       "       [0.59335154],\n",
       "       [0.58779496],\n",
       "       [0.5799653 ],\n",
       "       [0.57711065],\n",
       "       [0.5791704 ],\n",
       "       [0.5865685 ],\n",
       "       [0.58984274],\n",
       "       [0.58897716],\n",
       "       [0.58428496],\n",
       "       [0.5812744 ],\n",
       "       [0.5908907 ],\n",
       "       [0.6060553 ],\n",
       "       [0.62335473],\n",
       "       [0.635292  ],\n",
       "       [0.64395523],\n",
       "       [0.6510482 ],\n",
       "       [0.6637661 ],\n",
       "       [0.67351663],\n",
       "       [0.68711716],\n",
       "       [0.70143414],\n",
       "       [0.7099725 ],\n",
       "       [0.7124672 ],\n",
       "       [0.71315604],\n",
       "       [0.7167055 ],\n",
       "       [0.7189152 ],\n",
       "       [0.72275466],\n",
       "       [0.72351956],\n",
       "       [0.71789825],\n",
       "       [0.7140062 ],\n",
       "       [0.71047413],\n",
       "       [0.7137028 ],\n",
       "       [0.7353661 ],\n",
       "       [0.7545279 ],\n",
       "       [0.7756567 ],\n",
       "       [0.7747058 ],\n",
       "       [0.7634641 ],\n",
       "       [0.752234  ],\n",
       "       [0.74840605],\n",
       "       [0.7451303 ],\n",
       "       [0.75037116],\n",
       "       [0.763227  ],\n",
       "       [0.7770529 ],\n",
       "       [0.7801377 ],\n",
       "       [0.7747566 ],\n",
       "       [0.7683825 ],\n",
       "       [0.7572814 ],\n",
       "       [0.74498945],\n",
       "       [0.7330638 ],\n",
       "       [0.7233702 ],\n",
       "       [0.72172105],\n",
       "       [0.71910167],\n",
       "       [0.71899813],\n",
       "       [0.72643805],\n",
       "       [0.74479187],\n",
       "       [0.7624235 ],\n",
       "       [0.7678562 ],\n",
       "       [0.7606206 ],\n",
       "       [0.7427037 ],\n",
       "       [0.73269904],\n",
       "       [0.7282943 ],\n",
       "       [0.73379344],\n",
       "       [0.73483485],\n",
       "       [0.73750776],\n",
       "       [0.74326235],\n",
       "       [0.76089483],\n",
       "       [0.7586264 ],\n",
       "       [0.73102826],\n",
       "       [0.69692045],\n",
       "       [0.6721969 ],\n",
       "       [0.66175973],\n",
       "       [0.6637822 ],\n",
       "       [0.67894584],\n",
       "       [0.6943641 ],\n",
       "       [0.7027947 ],\n",
       "       [0.7124318 ],\n",
       "       [0.7198064 ],\n",
       "       [0.7290916 ],\n",
       "       [0.72934234],\n",
       "       [0.730779  ],\n",
       "       [0.7283343 ],\n",
       "       [0.72419566],\n",
       "       [0.720394  ],\n",
       "       [0.71522176],\n",
       "       [0.7102658 ],\n",
       "       [0.7092711 ],\n",
       "       [0.71163404],\n",
       "       [0.7155097 ],\n",
       "       [0.72415215],\n",
       "       [0.72240454],\n",
       "       [0.7233773 ],\n",
       "       [0.71497035],\n",
       "       [0.70109046],\n",
       "       [0.6901093 ],\n",
       "       [0.6739657 ],\n",
       "       [0.6648909 ],\n",
       "       [0.6525658 ],\n",
       "       [0.63482237],\n",
       "       [0.6264628 ],\n",
       "       [0.6263434 ],\n",
       "       [0.6273635 ],\n",
       "       [0.6277708 ],\n",
       "       [0.618836  ],\n",
       "       [0.6068334 ],\n",
       "       [0.603771  ],\n",
       "       [0.6083412 ],\n",
       "       [0.61487764],\n",
       "       [0.62509054],\n",
       "       [0.62948763],\n",
       "       [0.6324019 ],\n",
       "       [0.6320409 ],\n",
       "       [0.63089603],\n",
       "       [0.61985856],\n",
       "       [0.60982186],\n",
       "       [0.60701376],\n",
       "       [0.6100004 ],\n",
       "       [0.61845875],\n",
       "       [0.63755965],\n",
       "       [0.6565833 ],\n",
       "       [0.664724  ],\n",
       "       [0.66964424],\n",
       "       [0.6687554 ],\n",
       "       [0.6689672 ],\n",
       "       [0.67554706],\n",
       "       [0.6830364 ],\n",
       "       [0.6971254 ],\n",
       "       [0.71137303],\n",
       "       [0.7191547 ],\n",
       "       [0.70394653],\n",
       "       [0.6730048 ],\n",
       "       [0.64277786],\n",
       "       [0.63709646],\n",
       "       [0.64734536],\n",
       "       [0.66201437],\n",
       "       [0.67764634],\n",
       "       [0.691098  ],\n",
       "       [0.71292484],\n",
       "       [0.7327826 ],\n",
       "       [0.737905  ],\n",
       "       [0.72730154],\n",
       "       [0.7181579 ],\n",
       "       [0.71556425],\n",
       "       [0.70320916],\n",
       "       [0.6884242 ],\n",
       "       [0.68288785],\n",
       "       [0.69207084],\n",
       "       [0.7092209 ],\n",
       "       [0.72499174],\n",
       "       [0.7428803 ],\n",
       "       [0.7603759 ],\n",
       "       [0.7649877 ],\n",
       "       [0.7636117 ],\n",
       "       [0.7643573 ],\n",
       "       [0.7694568 ],\n",
       "       [0.77646625],\n",
       "       [0.78182465],\n",
       "       [0.79288954],\n",
       "       [0.80747914],\n",
       "       [0.80962473],\n",
       "       [0.7986228 ],\n",
       "       [0.7859054 ],\n",
       "       [0.7780067 ],\n",
       "       [0.7742937 ],\n",
       "       [0.7722252 ],\n",
       "       [0.7787942 ],\n",
       "       [0.7752515 ],\n",
       "       [0.7706705 ],\n",
       "       [0.7717411 ],\n",
       "       [0.77257055],\n",
       "       [0.77346534],\n",
       "       [0.7715202 ],\n",
       "       [0.77402455],\n",
       "       [0.7803344 ],\n",
       "       [0.79082686],\n",
       "       [0.79936737],\n",
       "       [0.8095395 ],\n",
       "       [0.822281  ],\n",
       "       [0.83840656],\n",
       "       [0.84665036],\n",
       "       [0.8390853 ],\n",
       "       [0.84386414],\n",
       "       [0.8541555 ],\n",
       "       [0.86626667],\n",
       "       [0.87194747],\n",
       "       [0.8668878 ],\n",
       "       [0.85516644],\n",
       "       [0.8440437 ],\n",
       "       [0.8355689 ],\n",
       "       [0.8278194 ],\n",
       "       [0.819086  ],\n",
       "       [0.8172675 ],\n",
       "       [0.81218046],\n",
       "       [0.8111902 ],\n",
       "       [0.8121951 ],\n",
       "       [0.81797516],\n",
       "       [0.81833416],\n",
       "       [0.81553483],\n",
       "       [0.81356096],\n",
       "       [0.81047475],\n",
       "       [0.8029491 ],\n",
       "       [0.7912229 ],\n",
       "       [0.7755722 ],\n",
       "       [0.762894  ],\n",
       "       [0.76059836],\n",
       "       [0.76239234],\n",
       "       [0.7644508 ],\n",
       "       [0.7477708 ],\n",
       "       [0.72427344],\n",
       "       [0.7080945 ],\n",
       "       [0.6996897 ],\n",
       "       [0.68755966],\n",
       "       [0.67002547],\n",
       "       [0.6723405 ],\n",
       "       [0.6819896 ],\n",
       "       [0.6880295 ],\n",
       "       [0.687288  ],\n",
       "       [0.68550146],\n",
       "       [0.687334  ],\n",
       "       [0.6802404 ],\n",
       "       [0.6729289 ],\n",
       "       [0.66500896],\n",
       "       [0.65789706],\n",
       "       [0.66929746],\n",
       "       [0.6898691 ],\n",
       "       [0.7124212 ],\n",
       "       [0.7218978 ],\n",
       "       [0.71922433],\n",
       "       [0.70659715],\n",
       "       [0.687336  ],\n",
       "       [0.6795671 ],\n",
       "       [0.6875901 ],\n",
       "       [0.70667887],\n",
       "       [0.72920287],\n",
       "       [0.7443542 ],\n",
       "       [0.74458957],\n",
       "       [0.74152416],\n",
       "       [0.73842406],\n",
       "       [0.7383371 ],\n",
       "       [0.7601933 ],\n",
       "       [0.7873301 ],\n",
       "       [0.80487233],\n",
       "       [0.81580925],\n",
       "       [0.814169  ],\n",
       "       [0.8252468 ],\n",
       "       [0.83785784],\n",
       "       [0.8445924 ],\n",
       "       [0.84632653],\n",
       "       [0.8423148 ],\n",
       "       [0.8363953 ],\n",
       "       [0.8327174 ],\n",
       "       [0.8286177 ],\n",
       "       [0.83008325],\n",
       "       [0.8271177 ],\n",
       "       [0.8310571 ],\n",
       "       [0.8300957 ],\n",
       "       [0.8080089 ],\n",
       "       [0.7763198 ],\n",
       "       [0.75113404],\n",
       "       [0.7364087 ],\n",
       "       [0.74015117],\n",
       "       [0.747728  ],\n",
       "       [0.75392634],\n",
       "       [0.75657207],\n",
       "       [0.7476106 ],\n",
       "       [0.7343654 ],\n",
       "       [0.71897024],\n",
       "       [0.7079927 ],\n",
       "       [0.70236355],\n",
       "       [0.7015837 ],\n",
       "       [0.71306485],\n",
       "       [0.729932  ],\n",
       "       [0.7405264 ],\n",
       "       [0.7453234 ],\n",
       "       [0.75203   ],\n",
       "       [0.75719714],\n",
       "       [0.75850374],\n",
       "       [0.756229  ],\n",
       "       [0.7591647 ],\n",
       "       [0.7644879 ],\n",
       "       [0.77849376],\n",
       "       [0.78098506],\n",
       "       [0.78351647],\n",
       "       [0.7826094 ],\n",
       "       [0.78176445],\n",
       "       [0.7914302 ],\n",
       "       [0.80424225],\n",
       "       [0.8156128 ],\n",
       "       [0.8154272 ],\n",
       "       [0.8065732 ],\n",
       "       [0.79833394],\n",
       "       [0.8008182 ],\n",
       "       [0.8114148 ],\n",
       "       [0.821435  ],\n",
       "       [0.8307088 ],\n",
       "       [0.8426758 ],\n",
       "       [0.8495746 ],\n",
       "       [0.85276383],\n",
       "       [0.8492583 ],\n",
       "       [0.84434074],\n",
       "       [0.8377747 ],\n",
       "       [0.84103614],\n",
       "       [0.84336513],\n",
       "       [0.8469579 ],\n",
       "       [0.850004  ],\n",
       "       [0.8476423 ],\n",
       "       [0.84330523],\n",
       "       [0.85346395],\n",
       "       [0.8875987 ],\n",
       "       [0.93498516],\n",
       "       [0.96367323],\n",
       "       [0.9706185 ],\n",
       "       [0.9649216 ],\n",
       "       [0.953402  ],\n",
       "       [0.94492716],\n",
       "       [0.9443868 ],\n",
       "       [0.9204603 ],\n",
       "       [0.8829193 ],\n",
       "       [0.858786  ],\n",
       "       [0.8512334 ],\n",
       "       [0.85558385],\n",
       "       [0.87848634],\n",
       "       [0.89694864],\n",
       "       [0.88943833],\n",
       "       [0.8519823 ]], dtype=float32)"
      ]
     },
     "execution_count": 161,
     "metadata": {},
     "output_type": "execute_result"
    }
   ],
   "source": [
    "test_predict"
   ]
  },
  {
   "cell_type": "markdown",
   "metadata": {},
   "source": [
    "### Scaling the results back to the original"
   ]
  },
  {
   "cell_type": "code",
   "execution_count": 162,
   "metadata": {},
   "outputs": [],
   "source": [
    "#  tranforms the scaled values back to the original\n",
    "train_predict=scaler.inverse_transform(train_predict)\n",
    "test_predict=scaler.inverse_transform(test_predict)\n",
    "# y_train=scaler.inverse_transform(y_train)\n",
    "# ytest=scaler.inverse_transform(ytest)\n",
    "\n"
   ]
  },
  {
   "cell_type": "code",
   "execution_count": 163,
   "metadata": {},
   "outputs": [
    {
     "data": {
      "text/plain": [
       "array([0.5190319 , 0.5430143 , 0.54147415, 0.54675468, 0.55335534,\n",
       "       0.54367437, 0.56919692, 0.5540154 , 0.5359736 , 0.57689769,\n",
       "       0.56391639, 0.56237624, 0.57931793, 0.60748075, 0.60660066,\n",
       "       0.59141914, 0.58987899, 0.58679868, 0.57865787, 0.59163916,\n",
       "       0.59493949, 0.60682068, 0.58921892, 0.58723872, 0.579978  ,\n",
       "       0.58789879, 0.62640264, 0.6310231 , 0.64664466, 0.64422442,\n",
       "       0.65808581, 0.66842684, 0.69834983, 0.69152915, 0.72189219,\n",
       "       0.73135314, 0.72739274, 0.72739274, 0.73311331, 0.74367437,\n",
       "       0.73663366, 0.74521452, 0.73531353, 0.72013201, 0.72783278,\n",
       "       0.71947195, 0.73509351, 0.78393839, 0.77073707, 0.80572057,\n",
       "       0.76061606, 0.76611661, 0.76787679, 0.77623762, 0.76149615,\n",
       "       0.78239824, 0.79647965, 0.8019802 , 0.78481848, 0.78019802,\n",
       "       0.78305831, 0.76237624, 0.75313531, 0.74081408, 0.73223322,\n",
       "       0.7410341 , 0.72321232, 0.73025303, 0.74939494, 0.78019802,\n",
       "       0.78371837, 0.77183718, 0.76193619, 0.74213421, 0.76171617,\n",
       "       0.75335534, 0.76963696, 0.74631463, 0.75951595, 0.76765677,\n",
       "       0.80462046, 0.74653465, 0.70143014, 0.68712871, 0.68272827,\n",
       "       0.68184818, 0.6860286 , 0.71023102, 0.70737074, 0.7049505 ,\n",
       "       0.73223322, 0.73553355, 0.75665567, 0.73817382, 0.75951595,\n",
       "       0.7469747 , 0.74565457, 0.74345435, 0.73267327, 0.72783278,\n",
       "       0.73179318, 0.73267327, 0.73355336, 0.74961496, 0.71947195,\n",
       "       0.74367437, 0.71045105, 0.70011001, 0.70121012, 0.66688669,\n",
       "       0.67942794, 0.64576458, 0.62024202, 0.63960396, 0.64048405,\n",
       "       0.63146315, 0.6310231 , 0.60286029, 0.60132013, 0.62464246,\n",
       "       0.63168317, 0.63190319, 0.65082508, 0.63674367, 0.64950495,\n",
       "       0.64422442, 0.64752475, 0.61342134, 0.62244224, 0.63146315,\n",
       "       0.63344334, 0.64466447, 0.68008801, 0.68074807, 0.66732673,\n",
       "       0.68668867, 0.67744774, 0.69042904, 0.70847085, 0.70693069,\n",
       "       0.73531353, 0.73905391, 0.73443344, 0.68118812, 0.65126513,\n",
       "       0.63938394, 0.67876788, 0.67986799, 0.67964796, 0.69284928,\n",
       "       0.70231023, 0.74939494, 0.75423542, 0.73751375, 0.72189219,\n",
       "       0.74059406, 0.74631463, 0.70187019, 0.69592959, 0.70847085,\n",
       "       0.73025303, 0.74015402, 0.74257426, 0.77007701, 0.78591859,\n",
       "       0.76875688, 0.77865787, 0.79273927, 0.80308031, 0.80792079,\n",
       "       0.80792079, 0.83256326, 0.84510451, 0.81958196, 0.80220022,\n",
       "       0.80154015, 0.80022002, 0.79405941, 0.7870187 , 0.80616062,\n",
       "       0.77029703, 0.77909791, 0.7909791 , 0.78349835, 0.78679868,\n",
       "       0.78063806, 0.79713971, 0.80528053, 0.82068207, 0.82222222,\n",
       "       0.84136414, 0.85874587, 0.88030803, 0.87216722, 0.84906491,\n",
       "       0.89724972, 0.89746975, 0.90649065, 0.89878988, 0.88294829,\n",
       "       0.87106711, 0.86512651, 0.85566557, 0.84180418, 0.82706271,\n",
       "       0.83586359, 0.81364136, 0.82442244, 0.82332233, 0.8369637 ,\n",
       "       0.82354235, 0.82574257, 0.83124312, 0.82640264, 0.81364136,\n",
       "       0.80044004, 0.78173817, 0.77733773, 0.78745875, 0.78107811,\n",
       "       0.77865787, 0.72629263, 0.71573157, 0.71925193, 0.71265127,\n",
       "       0.6809681 , 0.65786579, 0.70913091, 0.70253025, 0.69394939,\n",
       "       0.68866887, 0.69790979, 0.71045105, 0.67986799, 0.68844884,\n",
       "       0.67810781, 0.67282728, 0.72255226, 0.7320132 , 0.74763476,\n",
       "       0.72981298, 0.72563256, 0.71045105, 0.689989  , 0.71287129,\n",
       "       0.7320132 , 0.7489549 , 0.7630363 , 0.76039604, 0.74433443,\n",
       "       0.75841584, 0.75841584, 0.76369637, 0.82486249, 0.82970297,\n",
       "       0.8259626 , 0.84224422, 0.82684268, 0.88030803, 0.87590759,\n",
       "       0.87194719, 0.8730473 , 0.86358636, 0.85918592, 0.85830583,\n",
       "       0.84686469, 0.85610561, 0.83520352, 0.85654565, 0.83608361,\n",
       "       0.78305831, 0.759956  , 0.75313531, 0.74367437, 0.76611661,\n",
       "       0.75555556, 0.75753575, 0.75885589, 0.73575358, 0.73377338,\n",
       "       0.72057206, 0.72167217, 0.71991199, 0.72145215, 0.75181518,\n",
       "       0.76259626, 0.75621562, 0.76281628, 0.78393839, 0.78415842,\n",
       "       0.7819582 , 0.77887789, 0.79647965, 0.79713971, 0.82442244,\n",
       "       0.79163916, 0.81210121, 0.8019802 , 0.80506051, 0.8330033 ,\n",
       "       0.83608361, 0.84224422, 0.8239824 , 0.81562156, 0.81826183,\n",
       "       0.8369637 , 0.84642464, 0.84532453, 0.85588559, 0.8750275 ,\n",
       "       0.87062706, 0.87634763, 0.86644664, 0.86776678, 0.85830583,\n",
       "       0.87942794, 0.86512651, 0.87238724, 0.87194719, 0.86050605,\n",
       "       0.85940594, 0.89680968, 0.95489549, 1.        , 0.98921892,\n",
       "       0.99317932, 0.99713971, 0.9909791 , 0.99185919, 0.9960396 ,\n",
       "       0.9190319 , 0.88074807, 0.88118812, 0.87260726, 0.87062706,\n",
       "       0.90869087, 0.8990099 , 0.85984598, 0.80836084, 0.83960396])"
      ]
     },
     "execution_count": 163,
     "metadata": {},
     "output_type": "execute_result"
    }
   ],
   "source": [
    "ytest"
   ]
  },
  {
   "cell_type": "code",
   "execution_count": 164,
   "metadata": {},
   "outputs": [],
   "source": [
    "# changes the y_train and ytest values back to the original values, I had to transpose [y_train] and [x_train] so it\n",
    "# would be the same dimensions as the test_predict and train_predict\n",
    "y_train=scaler.inverse_transform(np.transpose([y_train]))\n",
    "ytest=scaler.inverse_transform(np.transpose([ytest]))"
   ]
  },
  {
   "cell_type": "code",
   "execution_count": 165,
   "metadata": {},
   "outputs": [
    {
     "name": "stdout",
     "output_type": "stream",
     "text": [
      "(340, 1)\n",
      "(340, 1)\n",
      "(717, 1)\n",
      "(717, 1)\n"
     ]
    }
   ],
   "source": [
    "print(ytest.shape)\n",
    "print(test_predict.shape)\n",
    "print(y_train.shape)\n",
    "print(train_predict.shape)"
   ]
  },
  {
   "cell_type": "markdown",
   "metadata": {},
   "source": [
    "## Displaying RMSE of testing and training data"
   ]
  },
  {
   "cell_type": "code",
   "execution_count": 166,
   "metadata": {},
   "outputs": [
    {
     "data": {
      "text/plain": [
       "1.2896740363263222"
      ]
     },
     "execution_count": 166,
     "metadata": {},
     "output_type": "execute_result"
    }
   ],
   "source": [
    "math.sqrt(mean_squared_error(y_train,train_predict))"
   ]
  },
  {
   "cell_type": "code",
   "execution_count": 167,
   "metadata": {},
   "outputs": [
    {
     "data": {
      "text/plain": [
       "1.3996464316352204"
      ]
     },
     "execution_count": 167,
     "metadata": {},
     "output_type": "execute_result"
    }
   ],
   "source": [
    "math.sqrt(mean_squared_error(ytest,test_predict))\n"
   ]
  },
  {
   "cell_type": "markdown",
   "metadata": {},
   "source": [
    "### Plotting the predictions along with the original graph of the closing cost"
   ]
  },
  {
   "cell_type": "code",
   "execution_count": 168,
   "metadata": {},
   "outputs": [
    {
     "data": {
      "image/png": "[encoded data removed]",
      "text/plain": [
       "<Figure size 432x288 with 1 Axes>"
      ]
     },
     "metadata": {
      "needs_background": "light"
     },
     "output_type": "display_data"
    }
   ],
   "source": [
    "\n",
    "look_back=100\n",
    "\n",
    "trainPredictPlot = np.empty_like(df1)\n",
    "trainPredictPlot[:, :] = np.nan\n",
    "trainPredictPlot[look_back:len(train_predict)+look_back, :] = train_predict\n",
    "\n",
    "testPredictPlot = np.empty_like(df1)\n",
    "testPredictPlot[:, :] = np.nan\n",
    "testPredictPlot[len(train_predict)+(look_back*2)+1:len(df1)-1, :] = test_predict\n",
    "\n",
    "plt.plot(scaler.inverse_transform(df1),label = \"Actual values\")\n",
    "plt.plot(trainPredictPlot,label = \"Training Prediction\")\n",
    "plt.plot(testPredictPlot, label = \"Testing Prediction\")\n",
    "plt.legend()\n",
    "plt.show()\n"
   ]
  }
 ],
 "metadata": {
  "interpreter": {
   "hash": "aee8b7b246df8f9039afb4144a1f6fd8d2ca17a180786b69acc140d282b71a49"
  },
  "kernelspec": {
   "display_name": "Python 3.10.0 64-bit",
   "language": "python",
   "name": "python3"
  },
  "language_info": {
   "codemirror_mode": {
    "name": "ipython",
    "version": 3
   },
   "file_extension": ".py",
   "mimetype": "text/x-python",
   "name": "python",
   "nbconvert_exporter": "python",
   "pygments_lexer": "ipython3",
   "version": "3.10.0"
  },
  "orig_nbformat": 4
 },
 "nbformat": 4,
 "nbformat_minor": 2
}
